{
 "cells": [
  {
   "cell_type": "code",
   "execution_count": 1,
   "metadata": {},
   "outputs": [],
   "source": [
    "import numpy as np\n",
    "from matplotlib import pyplot as plt\n",
    "from tqdm import tqdm\n",
    "import torch\n",
    "import datetime\n",
    "import pickle\n",
    "import functions\n",
    "import os"
   ]
  },
  {
   "cell_type": "code",
   "execution_count": 2,
   "metadata": {},
   "outputs": [
    {
     "name": "stderr",
     "output_type": "stream",
     "text": [
      "  0%|          | 0/15 [00:00<?, ?it/s]"
     ]
    },
    {
     "name": "stdout",
     "output_type": "stream",
     "text": [
      "Learning rate = 0.05\n",
      "Epoch no: 0\n",
      "Loss = tensor(166.6818)\n"
     ]
    },
    {
     "ename": "IndexError",
     "evalue": "too many indices for tensor of dimension 2",
     "output_type": "error",
     "traceback": [
      "\u001b[1;31m---------------------------------------------------------------------------\u001b[0m",
      "\u001b[1;31mIndexError\u001b[0m                                Traceback (most recent call last)",
      "\u001b[1;32m<ipython-input-2-40056b0ea7bd>\u001b[0m in \u001b[0;36m<module>\u001b[1;34m\u001b[0m\n\u001b[0;32m     85\u001b[0m   \u001b[1;32mfor\u001b[0m \u001b[0mi\u001b[0m \u001b[1;32min\u001b[0m \u001b[0mrange\u001b[0m\u001b[1;33m(\u001b[0m\u001b[0mnb_trials\u001b[0m\u001b[1;33m)\u001b[0m\u001b[1;33m:\u001b[0m\u001b[1;33m\u001b[0m\u001b[1;33m\u001b[0m\u001b[0m\n\u001b[0;32m     86\u001b[0m \u001b[1;33m\u001b[0m\u001b[0m\n\u001b[1;32m---> 87\u001b[1;33m     \u001b[0mnew_w1\u001b[0m\u001b[1;33m,\u001b[0m \u001b[0mnew_w2\u001b[0m\u001b[1;33m,\u001b[0m \u001b[0mloss_rec\u001b[0m\u001b[1;33m[\u001b[0m\u001b[0mi\u001b[0m\u001b[1;33m]\u001b[0m\u001b[1;33m,\u001b[0m \u001b[0mrecordings\u001b[0m \u001b[1;33m=\u001b[0m \u001b[0mfunctions\u001b[0m\u001b[1;33m.\u001b[0m\u001b[0mtrain_multilayer_network\u001b[0m\u001b[1;33m(\u001b[0m\u001b[0minput_trains\u001b[0m\u001b[1;33m,\u001b[0m \u001b[0mw1\u001b[0m\u001b[1;33m,\u001b[0m \u001b[0mw2\u001b[0m\u001b[1;33m,\u001b[0m \u001b[0mfeedback_weights\u001b[0m\u001b[1;33m,\u001b[0m \u001b[0mtarget\u001b[0m\u001b[1;33m,\u001b[0m \u001b[0mr_0\u001b[0m\u001b[1;33m,\u001b[0m \u001b[0margs\u001b[0m\u001b[1;33m)\u001b[0m\u001b[1;33m\u001b[0m\u001b[1;33m\u001b[0m\u001b[0m\n\u001b[0m\u001b[0;32m     88\u001b[0m     \u001b[0mrecordings_list\u001b[0m\u001b[1;33m.\u001b[0m\u001b[0mappend\u001b[0m\u001b[1;33m(\u001b[0m\u001b[0mrecordings\u001b[0m\u001b[1;33m)\u001b[0m\u001b[1;33m\u001b[0m\u001b[1;33m\u001b[0m\u001b[0m\n\u001b[0;32m     89\u001b[0m     \u001b[0mplt\u001b[0m\u001b[1;33m.\u001b[0m\u001b[0mplot\u001b[0m\u001b[1;33m(\u001b[0m\u001b[0mloss_rec\u001b[0m\u001b[1;33m[\u001b[0m\u001b[0mi\u001b[0m\u001b[1;33m]\u001b[0m\u001b[1;33m,\u001b[0m \u001b[0malpha\u001b[0m\u001b[1;33m=\u001b[0m\u001b[1;36m0.5\u001b[0m\u001b[1;33m)\u001b[0m\u001b[1;33m\u001b[0m\u001b[1;33m\u001b[0m\u001b[0m\n",
      "\u001b[1;32mc:\\Users\\divya\\Documents\\code - unreliable transmission\\Unreliable-Transmission\\SuperSpike\\functions\\train_multilayer_network.py\u001b[0m in \u001b[0;36mtrain_multilayer_network\u001b[1;34m(input_trains, w1, w2, feedback_weights, target, r_0, args)\u001b[0m\n\u001b[0;32m    117\u001b[0m         \u001b[0mweight_change_2_rec\u001b[0m\u001b[1;33m[\u001b[0m\u001b[0mi\u001b[0m\u001b[1;33m]\u001b[0m \u001b[1;33m=\u001b[0m \u001b[0mw2_change\u001b[0m\u001b[1;33m\u001b[0m\u001b[1;33m\u001b[0m\u001b[0m\n\u001b[0;32m    118\u001b[0m \u001b[1;33m\u001b[0m\u001b[0m\n\u001b[1;32m--> 119\u001b[1;33m         \u001b[0mregularization_1\u001b[0m \u001b[1;33m=\u001b[0m \u001b[0mfunctions\u001b[0m\u001b[1;33m.\u001b[0m\u001b[0mheterosynaptic_regularization\u001b[0m\u001b[1;33m(\u001b[0m\u001b[0mspk_rec_1\u001b[0m\u001b[1;33m,\u001b[0m \u001b[0margs\u001b[0m\u001b[1;33m)\u001b[0m \u001b[1;31m# shape: (nb_hidden,)\u001b[0m\u001b[1;33m\u001b[0m\u001b[1;33m\u001b[0m\u001b[0m\n\u001b[0m\u001b[0;32m    120\u001b[0m         \u001b[0mregularization_2\u001b[0m \u001b[1;33m=\u001b[0m \u001b[0mfunctions\u001b[0m\u001b[1;33m.\u001b[0m\u001b[0mheterosynaptic_regularization\u001b[0m\u001b[1;33m(\u001b[0m\u001b[0mspk_rec_2\u001b[0m\u001b[1;33m,\u001b[0m \u001b[0margs\u001b[0m\u001b[1;33m)\u001b[0m \u001b[1;31m# shape: (nb_outputs,)\u001b[0m\u001b[1;33m\u001b[0m\u001b[1;33m\u001b[0m\u001b[0m\n\u001b[0;32m    121\u001b[0m \u001b[1;33m\u001b[0m\u001b[0m\n",
      "\u001b[1;32mc:\\Users\\divya\\Documents\\code - unreliable transmission\\Unreliable-Transmission\\SuperSpike\\functions\\heterosynaptic_regularization.py\u001b[0m in \u001b[0;36mheterosynaptic_regularization\u001b[1;34m(activity, args)\u001b[0m\n\u001b[0;32m     30\u001b[0m     \u001b[1;32mfor\u001b[0m \u001b[0mt\u001b[0m \u001b[1;32min\u001b[0m \u001b[0mrange\u001b[0m\u001b[1;33m(\u001b[0m\u001b[0mnb_steps\u001b[0m\u001b[1;33m)\u001b[0m\u001b[1;33m:\u001b[0m\u001b[1;33m\u001b[0m\u001b[1;33m\u001b[0m\u001b[0m\n\u001b[0;32m     31\u001b[0m         \u001b[0mindices\u001b[0m \u001b[1;33m=\u001b[0m \u001b[0mactivity\u001b[0m\u001b[1;33m[\u001b[0m\u001b[1;33m:\u001b[0m\u001b[1;33m,\u001b[0m \u001b[0mt\u001b[0m\u001b[1;33m]\u001b[0m \u001b[1;33m>=\u001b[0m \u001b[1;36m1\u001b[0m\u001b[1;33m\u001b[0m\u001b[1;33m\u001b[0m\u001b[0m\n\u001b[1;32m---> 32\u001b[1;33m         \u001b[0mregularization\u001b[0m\u001b[1;33m[\u001b[0m\u001b[0mindices\u001b[0m\u001b[1;33m,\u001b[0m \u001b[0mt\u001b[0m\u001b[1;33m:\u001b[0m\u001b[1;33m]\u001b[0m \u001b[1;33m+=\u001b[0m \u001b[0mmodel_trace\u001b[0m\u001b[1;33m[\u001b[0m\u001b[1;33m:\u001b[0m\u001b[0mnb_steps\u001b[0m \u001b[1;33m-\u001b[0m \u001b[0mt\u001b[0m\u001b[1;33m]\u001b[0m\u001b[1;33m\u001b[0m\u001b[1;33m\u001b[0m\u001b[0m\n\u001b[0m\u001b[0;32m     33\u001b[0m \u001b[1;33m\u001b[0m\u001b[0m\n\u001b[0;32m     34\u001b[0m     \u001b[0mregularization\u001b[0m \u001b[1;33m=\u001b[0m \u001b[0mtorch\u001b[0m\u001b[1;33m.\u001b[0m\u001b[0msum\u001b[0m\u001b[1;33m(\u001b[0m\u001b[0mregularization\u001b[0m\u001b[1;33m**\u001b[0m\u001b[0ma\u001b[0m\u001b[1;33m,\u001b[0m \u001b[0mdim\u001b[0m\u001b[1;33m=\u001b[0m\u001b[1;36m1\u001b[0m\u001b[1;33m)\u001b[0m\u001b[1;33m*\u001b[0m\u001b[0mdt\u001b[0m \u001b[1;31m# simple first order Euler integration method\u001b[0m\u001b[1;33m\u001b[0m\u001b[1;33m\u001b[0m\u001b[0m\n",
      "\u001b[1;31mIndexError\u001b[0m: too many indices for tensor of dimension 2"
     ]
    }
   ],
   "source": [
    "\n",
    "\n",
    "# set device\n",
    "dtype = torch.float\n",
    "cpu = torch.device(\"cpu\")\n",
    "gpu = torch.device(\"cuda:0\")\n",
    "\n",
    "device = cpu\n",
    "# Uncomment the line below to run on GPU\n",
    "#device = gpu\n",
    "\n",
    "args = {'thres': -50,\n",
    "        'u_rest': -60,\n",
    "        'tau_mem': 1e-2,\n",
    "        'tau_syn': 5e-3,\n",
    "        'tau_ref': 5e-3,\n",
    "        'tau_het': 5e-3, # regulation term time constant (pure guess)\n",
    "        't_rise': 5e-3, # the pre-synaptic double exponential kernel rise time\n",
    "        't_decay': 1e-2, # the pre-synaptic double exponential kernel decay time\n",
    "        'timestep_size': 1e-4, # 0.1 msec\n",
    "        't_rise_alpha': 5e-3, # change this\n",
    "        't_decay_alpha': 1e-2, # change this \n",
    "        'nb_steps': 5000, # 0.5 secs in total\n",
    "        'tau_rms': 5e-4,\n",
    "        'nb_inputs': 100,\n",
    "        'nb_hidden': 4,\n",
    "        'nb_outputs': 1,\n",
    "        'nb_epochs': 15,\n",
    "        'rho': 1, # regularization strength\n",
    "        'a': 4, # exponent parameter for regularization evaluation\n",
    "        'epsilon': 1e-4\n",
    "        } \n",
    "    \n",
    "args['device'] = device\n",
    "args['dtype'] = dtype\n",
    "nb_inputs = args['nb_inputs']\n",
    "nb_hidden = args['nb_hidden']\n",
    "nb_outputs = args['nb_outputs']\n",
    "\n",
    "nb_steps = args['nb_steps']\n",
    "nb_epochs = args['nb_epochs']\n",
    "dt = args['timestep_size']\n",
    "\n",
    "tau_syn = args['tau_syn']\n",
    "tau_mem = args['tau_mem']\n",
    "\n",
    "alpha = np.exp(-dt/tau_syn)\n",
    "beta = np.exp(-dt/tau_mem)\n",
    "\n",
    "args['alpha'] = alpha\n",
    "args['beta'] = beta\n",
    "\n",
    "nb_trials = 1\n",
    "\n",
    "# 100 independent poisson trains\n",
    "spk_freq = 10\n",
    "input_trains = functions.poisson_trains(nb_inputs, spk_freq*np.ones(nb_inputs), args)\n",
    "\n",
    "# 5 equidistant spikes over 500 msec.\n",
    "target = torch.zeros((nb_steps), device=device, dtype=dtype)\n",
    "target[500::int(nb_steps/5)] = 1\n",
    "\n",
    "#@title Training the network\n",
    "\n",
    "#weight_scale = 100\n",
    "\n",
    "#w1, w2 = functions.initialize_weights_multilayer(nb_inputs, nb_hidden, nb_outputs, args, weight_scale)\n",
    "\n",
    "w1, w2 = functions.new_initialize_weights_multilayer(nb_inputs, nb_hidden, nb_outputs, args) #shape: (nb_inputs, nb_hidden), (nb_hidden, nb_outputs)\n",
    "\n",
    "#feedback_weights = functions.random_feedback(nb_hidden, nb_outputs, args).T # shape: (nb_outputs, nb_hidden)\n",
    "\n",
    "# Symmetric Feedback\n",
    "feedback_weights = w2.T\n",
    "gamma = float(np.exp(-dt/args['tau_rms']))\n",
    "\n",
    "#learning_rates = np.array([50, 5, 1, 10, 0.5, 0.1]) * 1e-3\n",
    "learning_rates = np.array([50])*1e-3\n",
    "\n",
    "for r_0 in learning_rates:\n",
    "  print(\"Learning rate =\", r_0)\n",
    "  \n",
    "#  loss_rec = torch.empty((nb_trials, nb_epochs), device=device, dtype=dtype)\n",
    "  loss_rec = np.empty((nb_trials, nb_epochs))\n",
    "  recordings_list = []\n",
    "\n",
    "  for i in range(nb_trials):\n",
    "\n",
    "    new_w1, new_w2, loss_rec[i], recordings = functions.train_multilayer_network(input_trains, w1, w2, feedback_weights, target, r_0, args)\n",
    "    recordings_list.append(recordings)  \n",
    "    plt.plot(loss_rec[i], alpha=0.5)\n",
    "\n",
    "  plt.plot(np.mean(loss_rec, axis=0), color='black', label='Avg. Loss')\n",
    "  plt.title(\"Loss over epochs, learning rate = \" + str(r_0))\n",
    "  plt.legend()\n",
    "  # plt.show()\n",
    "\n",
    "#   data_folder = \"data/multilayer/\" + \\\n",
    "#         str(datetime.datetime.today())[:13] + ' rate = ' + str(r_0) + '/'\n",
    "#   location = os.path.abspath(data_folder)\n",
    "#   location = os.path.join(os.getcwd(), location)\n",
    "#   os.makedirs(location)\n",
    "\n",
    "#   plt.savefig(location + \"/loss over epochs\" + \"learning-rate = \" + str(r_0) +\n",
    "#               \", epsilon = \" + str(args['epsilon']) + \"spike freq = \" + str(spk_freq) + \".jpg\")\n",
    "\n",
    "#   loss_file_name = location + \"/loss_rec epsilon= \" + \\\n",
    "#       str(args['epsilon']) + \"learning_rate = \" + \\\n",
    "#       str(r_0) + \"spike freq = \" + str(spk_freq)\n",
    "#   loss_file = open(loss_file_name, 'wb')\n",
    "#   pickle.dump(loss_rec, loss_file)\n",
    "#   loss_file.close()\n",
    "\n",
    "#   # Store args:\n",
    "#   file_name = location + \"/args epsilon = \" + \\\n",
    "#       str(args['epsilon']) + \" learning_rate = \" + \\\n",
    "#       str(r_0) + \" spike freq = \" + str(spk_freq)\n",
    "#   args_file = open(file_name, 'a')\n",
    "#   args_file.write(str(args))\n",
    "#   args_file.close()\n",
    "\n",
    "#   recordings_filename = location + \"/recordings epsilon= \" + \\\n",
    "#         str(args['epsilon']) + \"learning_rate = \" + \\\n",
    "#         str(r_0) + \"spike freq = \" + str(spk_freq)\n",
    "\n",
    "#   recordings_file = open(recordings_filename, 'wb')\n",
    "#   pickle.dump(recordings_list, recordings_file)\n",
    "#   recordings_file.close()\n",
    "\n"
   ]
  },
  {
   "cell_type": "code",
   "execution_count": 8,
   "metadata": {},
   "outputs": [],
   "source": [
    "args, neural_dynamics, weight_dynamics, learning_rate_dynamics = recordings\n",
    "spk_rec_1, spk_rec_2, mem_rec_1, mem_rec_2, presynaptic_traces_1, presynaptic_traces_2, eligibility_1, eligibility_2, output_error, feedback_error = neural_dynamics\n"
   ]
  },
  {
   "cell_type": "code",
   "execution_count": 11,
   "metadata": {},
   "outputs": [
    {
     "data": {
      "text/plain": [
       "{'thres': -50,\n",
       " 'u_rest': -60,\n",
       " 'tau_mem': 0.01,\n",
       " 'tau_syn': 0.005,\n",
       " 'tau_ref': 0.005,\n",
       " 'tau_het': 0.005,\n",
       " 't_rise': 0.005,\n",
       " 't_decay': 0.01,\n",
       " 'timestep_size': 0.0001,\n",
       " 't_rise_alpha': 0.005,\n",
       " 't_decay_alpha': 0.01,\n",
       " 'nb_steps': 5000,\n",
       " 'tau_rms': 0.0005,\n",
       " 'nb_inputs': 100,\n",
       " 'nb_hidden': 4,\n",
       " 'nb_outputs': 1,\n",
       " 'nb_epochs': 1,\n",
       " 'rho': 1,\n",
       " 'a': 4,\n",
       " 'epsilon': 0.0001,\n",
       " 'device': device(type='cpu'),\n",
       " 'dtype': torch.float32,\n",
       " 'alpha': 0.9801986733067553,\n",
       " 'beta': 0.9900498337491681}"
      ]
     },
     "execution_count": 11,
     "metadata": {},
     "output_type": "execute_result"
    }
   ],
   "source": [
    "args"
   ]
  },
  {
   "cell_type": "code",
   "execution_count": 9,
   "metadata": {},
   "outputs": [
    {
     "data": {
      "text/plain": [
       "tensor([[0., 0., 0.,  ..., 0., 0., 0.],\n",
       "        [0., 0., 0.,  ..., 0., 0., 0.],\n",
       "        [0., 0., 0.,  ..., 0., 0., 0.],\n",
       "        [0., 0., 0.,  ..., 0., 0., 0.]])"
      ]
     },
     "execution_count": 9,
     "metadata": {},
     "output_type": "execute_result"
    }
   ],
   "source": [
    "spk_rec_1"
   ]
  },
  {
   "cell_type": "code",
   "execution_count": 10,
   "metadata": {},
   "outputs": [
    {
     "ename": "ValueError",
     "evalue": "operands could not be broadcast together with shapes (4,) (5000,) ",
     "output_type": "error",
     "traceback": [
      "\u001b[1;31m---------------------------------------------------------------------------\u001b[0m",
      "\u001b[1;31mValueError\u001b[0m                                Traceback (most recent call last)",
      "\u001b[1;32m<ipython-input-10-f6ecda110215>\u001b[0m in \u001b[0;36m<module>\u001b[1;34m\u001b[0m\n\u001b[0;32m      5\u001b[0m \u001b[0mfig\u001b[0m\u001b[1;33m,\u001b[0m \u001b[0maxs\u001b[0m \u001b[1;33m=\u001b[0m \u001b[0mplt\u001b[0m\u001b[1;33m.\u001b[0m\u001b[0msubplots\u001b[0m\u001b[1;33m(\u001b[0m\u001b[1;36m2\u001b[0m\u001b[1;33m,\u001b[0m \u001b[1;36m1\u001b[0m\u001b[1;33m,\u001b[0m \u001b[0msharex\u001b[0m\u001b[1;33m=\u001b[0m\u001b[1;32mTrue\u001b[0m\u001b[1;33m)\u001b[0m\u001b[1;33m\u001b[0m\u001b[1;33m\u001b[0m\u001b[0m\n\u001b[0;32m      6\u001b[0m \u001b[1;33m\u001b[0m\u001b[0m\n\u001b[1;32m----> 7\u001b[1;33m \u001b[0mpositions_1\u001b[0m \u001b[1;33m=\u001b[0m \u001b[0mnp\u001b[0m\u001b[1;33m.\u001b[0m\u001b[0mones\u001b[0m\u001b[1;33m(\u001b[0m\u001b[0mnb_hidden\u001b[0m\u001b[1;33m)\u001b[0m\u001b[1;33m*\u001b[0m\u001b[0mnp\u001b[0m\u001b[1;33m.\u001b[0m\u001b[0marange\u001b[0m\u001b[1;33m(\u001b[0m\u001b[1;36m0\u001b[0m\u001b[1;33m,\u001b[0m \u001b[0mnb_steps\u001b[0m\u001b[1;33m)\u001b[0m\u001b[1;33m\u001b[0m\u001b[1;33m\u001b[0m\u001b[0m\n\u001b[0m\u001b[0;32m      8\u001b[0m \u001b[0mspike_positions_1\u001b[0m \u001b[1;33m=\u001b[0m \u001b[0mpositions\u001b[0m\u001b[1;33m[\u001b[0m\u001b[0mspk_rec_1\u001b[0m \u001b[1;33m==\u001b[0m \u001b[1;36m1\u001b[0m\u001b[1;33m]\u001b[0m\u001b[1;33m\u001b[0m\u001b[1;33m\u001b[0m\u001b[0m\n\u001b[0;32m      9\u001b[0m \u001b[0maxs\u001b[0m\u001b[1;33m[\u001b[0m\u001b[1;36m0\u001b[0m\u001b[1;33m]\u001b[0m\u001b[1;33m.\u001b[0m\u001b[0meventplot\u001b[0m\u001b[1;33m(\u001b[0m\u001b[0mspike_positions\u001b[0m\u001b[1;33m)\u001b[0m\u001b[1;33m\u001b[0m\u001b[1;33m\u001b[0m\u001b[0m\n",
      "\u001b[1;31mValueError\u001b[0m: operands could not be broadcast together with shapes (4,) (5000,) "
     ]
    },
    {
     "data": {
      "image/png": "[encoded data removed]",
      "text/plain": [
       "<Figure size 432x288 with 2 Axes>"
      ]
     },
     "metadata": {
      "needs_background": "light"
     },
     "output_type": "display_data"
    }
   ],
   "source": [
    "nb_steps = args['nb_steps']\n",
    "nb_hidden = args['nb_hidden']\n",
    "dt = args['timestep_size']\n",
    "# Plot spk recordings of hidden and output layer in a single plot\n",
    "\n",
    "fig, axs = plt.subplots(2, 1, sharex=True)\n",
    "\n",
    "positions_1 = np.arange(0, nb_steps)\n",
    "spike_positions_1 = positions[spk_rec_1 == 1]\n",
    "axs[0].eventplot(spike_positions)\n",
    "axs[0].set_title(\"Output Spike Train\")\n",
    "axs[0].set_xlim([0, nb_steps])\n",
    "\n"
   ]
  },
  {
   "cell_type": "code",
   "execution_count": 17,
   "metadata": {},
   "outputs": [],
   "source": [
    "\n",
    "def plot_spike_trains(spike_trains, title='Spike Trains'):\n",
    "    \"\"\"\n",
    "    \"\"\"\n",
    "    plt.figure(dpi = 100)\n",
    "    for i in range(len(spike_trains)):\n",
    "        positions = np.arange(0, nb_steps)\n",
    "        spike_positions = positions[spike_trains[i] == 1]\n",
    "        plt.eventplot(spike_positions, lineoffsets=i)\n",
    "    plt.xlim(0, nb_steps)\n",
    "    plt.title(title)\n",
    "    plt.xlabel('Timestep')\n",
    "    plt.ylabel('Spike Train No.')\n",
    "    plt.show()\n"
   ]
  },
  {
   "cell_type": "code",
   "execution_count": 20,
   "metadata": {},
   "outputs": [
    {
     "data": {
      "text/plain": [
       "tensor([[0., 0., 0.,  ..., 0., 0., 0.]])"
      ]
     },
     "execution_count": 20,
     "metadata": {},
     "output_type": "execute_result"
    }
   ],
   "source": [
    "spk_rec_2"
   ]
  },
  {
   "cell_type": "code",
   "execution_count": 19,
   "metadata": {},
   "outputs": [
    {
     "data": {
      "image/png": "[encoded data removed]",
      "text/plain": [
       "<Figure size 600x400 with 1 Axes>"
      ]
     },
     "metadata": {
      "needs_background": "light"
     },
     "output_type": "display_data"
    }
   ],
   "source": [
    "plot_spike_trains(spk_rec_2)"
   ]
  },
  {
   "cell_type": "code",
   "execution_count": null,
   "metadata": {},
   "outputs": [],
   "source": []
  }
 ],
 "metadata": {
  "interpreter": {
   "hash": "b531b3af018a4982dfc1aa8db52a24cc3acb666bcf2043fb01945b05238aeb19"
  },
  "kernelspec": {
   "display_name": "Python 3.7.6 ('base')",
   "language": "python",
   "name": "python3"
  },
  "language_info": {
   "codemirror_mode": {
    "name": "ipython",
    "version": 3
   },
   "file_extension": ".py",
   "mimetype": "text/x-python",
   "name": "python",
   "nbconvert_exporter": "python",
   "pygments_lexer": "ipython3",
   "version": "3.7.6"
  },
  "orig_nbformat": 4
 },
 "nbformat": 4,
 "nbformat_minor": 2
}
