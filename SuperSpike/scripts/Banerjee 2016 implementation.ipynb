{
  "cells": [
    {
      "cell_type": "markdown",
      "metadata": {
        "colab_type": "text",
        "id": "view-in-github"
      },
      "source": [
        "<a href=\"https://colab.research.google.com/github/divyanshgupt/Unreliable-Transmission/blob/main/Banerjee%202016%20implementation.ipynb\" target=\"_parent\"><img src=\"https://colab.research.google.com/assets/colab-badge.svg\" alt=\"Open In Colab\"/></a>"
      ]
    },
    {
      "cell_type": "markdown",
      "metadata": {
        "id": "uvOGdSYoyBaK"
      },
      "source": [
        "Link to paper: [Banerjee 2016](https://direct.mit.edu/neco/article/28/5/826-848/8162)\n",
        "\n",
        "To Implement:\n",
        "1. Spike Response Model \n",
        "2. Learning Rule\n",
        "3. Network Implementation"
      ]
    },
    {
      "cell_type": "code",
      "execution_count": null,
      "metadata": {
        "id": "cEmeSIAsx-bB"
      },
      "outputs": [],
      "source": [
        "import numpy as np\n",
        "from matplotlib import pyplot as plt\n",
        "from tqdm import tqdm\n",
        "import torch\n"
      ]
    },
    {
      "cell_type": "code",
      "execution_count": null,
      "metadata": {
        "id": "sBT1BdjLiOGK"
      },
      "outputs": [],
      "source": [
        "args = {'tau': ,\n",
        "        'beta': ,\n",
        "        'step_size': ,\n",
        "        'nb_steps': }"
      ]
    },
    {
      "cell_type": "markdown",
      "metadata": {
        "id": "ej_QzspqcKxK"
      },
      "source": [
        "### Error Functional\n"
      ]
    },
    {
      "cell_type": "code",
      "execution_count": null,
      "metadata": {
        "id": "MMyqxOV8cEan"
      },
      "outputs": [],
      "source": [
        "def f_error(t, args):\n",
        "  \"\"\"\n",
        "  inputs:\n",
        "    t - time value of spike\n",
        "  returns:\n",
        "    \n",
        "  \"\"\"\n",
        "  tau = args['tau']\n",
        "  beta = args['beta']\n",
        "\n",
        "  \n",
        "  f = 1/tau * torch.exp(-beta/t)* torch.exp(-t/tau)\n",
        "  \n",
        "  return f\n",
        "\n",
        "def error_functional(output, target, args):\n",
        "  \"\"\"\n",
        "  inputs:\n",
        "    output - output spike train\n",
        "    target - target spike train\n",
        "  returns:\n",
        "    error functional value\n",
        "  \"\"\"\n",
        "  nb_steps = args['nb_steps']\n",
        "  step_size = args['step_size']\n",
        "\n",
        "  output = step_size*torch.ones(nb_steps)\n",
        "\n",
        "  value = (torch.sum(f_error(output, args)) - torch.sum(f_error(target, args)))**2\n",
        "\n",
        "  return value ## not finished"
      ]
    },
    {
      "cell_type": "markdown",
      "metadata": {
        "id": "ml9iSig7jhZN"
      },
      "source": [
        "### Weight Update"
      ]
    },
    {
      "cell_type": "code",
      "execution_count": null,
      "metadata": {
        "id": "MI_oedIWjXj-"
      },
      "outputs": [],
      "source": []
    },
    {
      "cell_type": "markdown",
      "metadata": {
        "id": "2lye8Px3kOpu"
      },
      "source": [
        "### Witness Network"
      ]
    },
    {
      "cell_type": "code",
      "execution_count": null,
      "metadata": {
        "id": "Sl5GFz6vkQue"
      },
      "outputs": [],
      "source": [
        "def initialise_witness():\n",
        "    \"\"\"\n",
        "    Initialises witness network\n",
        "    \"\"\"\n",
        "    \n",
        "    return "
      ]
    },
    {
      "cell_type": "markdown",
      "metadata": {
        "id": "DMe3GMxFkTT2"
      },
      "source": [
        "### MAPE Criterion"
      ]
    },
    {
      "cell_type": "code",
      "execution_count": null,
      "metadata": {
        "id": "jhBx29nokVwG"
      },
      "outputs": [],
      "source": []
    },
    {
      "cell_type": "markdown",
      "metadata": {
        "id": "5k3yTtOEje-4"
      },
      "source": []
    },
    {
      "cell_type": "markdown",
      "metadata": {
        "id": "p26W15cgnf1n"
      },
      "source": [
        "### Single Layer Networks"
      ]
    },
    {
      "cell_type": "code",
      "execution_count": null,
      "metadata": {
        "id": "06NDXrAune71"
      },
      "outputs": [],
      "source": [
        "nb_inputs = 10\n",
        "nb_outputs = 1"
      ]
    },
    {
      "cell_type": "code",
      "execution_count": null,
      "metadata": {
        "id": "jt_rhepdnnrH"
      },
      "outputs": [],
      "source": [
        "def initialize_weights(nb_inputs, nb_outputs, scale=70):\n",
        "  weights = torch.empty((nb_inputs, nb_outputs), device=device, dtype=dtype)\n",
        "  torch.nn.init.normal_(weights, mean=0, std=weight_scale/np.sqrt(nb_inputs))\n",
        "  print(\"Weight initialization done\")\n",
        "  return weights"
      ]
    },
    {
      "cell_type": "code",
      "execution_count": null,
      "metadata": {
        "id": "tnKIZ95FosGj"
      },
      "outputs": [],
      "source": [
        "def plot_weight_distribution(weights):\n",
        "  weights = torch.flatten(weights).cpu()\n",
        "  plt.hist(weights, bins='fd')\n",
        "  plt.title(\"Weight Distribution\")\n",
        "  plt.show()\n",
        "  "
      ]
    }
  ],
  "metadata": {
    "colab": {
      "include_colab_link": true,
      "name": "Banerjee 2016 implementation.ipynb",
      "provenance": []
    },
    "kernelspec": {
      "display_name": "Python 3",
      "name": "python3"
    },
    "language_info": {
      "name": "python"
    }
  },
  "nbformat": 4,
  "nbformat_minor": 0
}
