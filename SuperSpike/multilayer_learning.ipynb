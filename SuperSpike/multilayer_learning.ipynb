{
 "cells": [
  {
   "cell_type": "code",
   "execution_count": null,
   "metadata": {},
   "outputs": [],
   "source": [
    "import numpy as np\n",
    "from matplotlib import pyplot as plt\n",
    "from tqdm import tqdm\n",
    "import pickle\n",
    "import os\n",
    "import pandas as pd\n"
   ]
  },
  {
   "cell_type": "code",
   "execution_count": null,
   "metadata": {},
   "outputs": [],
   "source": [
    "# Load recordings file\n",
    "recordings_file = ''\n",
    "recordings = pd.read_pickle(recordings_file)\n",
    "\n",
    "# Load Loss Plot\n",
    "loss_rec_file = ''\n",
    "loss_rec = pd.read_picle(loss_rec_file)\n",
    "\n",
    "neural_dynamics, weight_dynamics, learning_rate_dynamics = recordings\n",
    "spk_rec_1, spk_rec_2, mem_rec_1, mem_rec_2, presynaptic_traces_1, presynaptic_traces_2 = neural_dynamics\n",
    "\n",
    "\n",
    "#Plot Loss\n",
    "plt.figure(dpi=120)\n",
    "plt.plot(loss_rec)\n",
    "plt.title(\"Loss over epochs\")\n"
   ]
  },
  {
   "cell_type": "code",
   "execution_count": null,
   "metadata": {},
   "outputs": [],
   "source": [
    "# Plot spiketrains for any epoch for hidden and output layer\n",
    "epoch = 10\n",
    "nb_steps = 5000\n",
    "dt = 1e-4\n",
    "\n",
    "spk_times_1 = spk_rec_1\n",
    "fig, axs = plt.subplots(2, 1, sharex=True)\n",
    "axs[0].plot()\n",
    "\n"
   ]
  }
 ],
 "metadata": {
  "interpreter": {
   "hash": "b531b3af018a4982dfc1aa8db52a24cc3acb666bcf2043fb01945b05238aeb19"
  },
  "kernelspec": {
   "display_name": "Python 3.7.6 ('base')",
   "language": "python",
   "name": "python3"
  },
  "language_info": {
   "name": "python",
   "version": "3.7.6"
  },
  "orig_nbformat": 4
 },
 "nbformat": 4,
 "nbformat_minor": 2
}
