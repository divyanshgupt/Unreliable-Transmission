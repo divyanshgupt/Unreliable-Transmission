{
  "nbformat": 4,
  "nbformat_minor": 0,
  "metadata": {
    "colab": {
      "name": "SuperSpike - Offline.ipynb",
      "provenance": [],
      "authorship_tag": "ABX9TyNbV1mzspKOXotFNnwxbkR2",
      "include_colab_link": true
    },
    "kernelspec": {
      "name": "python3",
      "display_name": "Python 3"
    },
    "language_info": {
      "name": "python"
    }
  },
  "cells": [
    {
      "cell_type": "markdown",
      "metadata": {
        "id": "view-in-github",
        "colab_type": "text"
      },
      "source": [
        "<a href=\"https://colab.research.google.com/github/divyanshgupt/Unreliable-Transmission/blob/main/SuperSpike_offline.ipynb\" target=\"_parent\"><img src=\"https://colab.research.google.com/assets/colab-badge.svg\" alt=\"Open In Colab\"/></a>"
      ]
    },
    {
      "cell_type": "code",
      "metadata": {
        "id": "7ru0F0ywEE_f"
      },
      "source": [
        "import numpy as np\n",
        "import torch\n",
        "from matplotlib import pyplot as plt\n",
        "import torch.nn.Functional as F"
      ],
      "execution_count": null,
      "outputs": []
    }
  ]
}