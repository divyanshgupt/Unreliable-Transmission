{
  "nbformat": 4,
  "nbformat_minor": 0,
  "metadata": {
    "colab": {
      "name": "Banerjee 2016 implementation.ipynb",
      "provenance": [],
      "include_colab_link": true
    },
    "kernelspec": {
      "name": "python3",
      "display_name": "Python 3"
    },
    "language_info": {
      "name": "python"
    }
  },
  "cells": [
    {
      "cell_type": "markdown",
      "metadata": {
        "id": "view-in-github",
        "colab_type": "text"
      },
      "source": [
        "<a href=\"https://colab.research.google.com/github/divyanshgupt/Unreliable-Transmission/blob/main/Banerjee%202016%20implementation.ipynb\" target=\"_parent\"><img src=\"https://colab.research.google.com/assets/colab-badge.svg\" alt=\"Open In Colab\"/></a>"
      ]
    },
    {
      "cell_type": "markdown",
      "metadata": {
        "id": "uvOGdSYoyBaK"
      },
      "source": [
        "Link to paper: [Banerjee 2016](https://direct.mit.edu/neco/article/28/5/826-848/8162)\n",
        "\n",
        "To Implement:\n",
        "1. Spike Response Model \n",
        "2. Learning Rule\n",
        "3. Network Implementation"
      ]
    },
    {
      "cell_type": "code",
      "metadata": {
        "id": "cEmeSIAsx-bB"
      },
      "source": [
        "import numpy as np\n",
        "from matplotlib import pyplot as plt\n",
        "from tqdm import tqdm\n",
        "import torch\n"
      ],
      "execution_count": null,
      "outputs": []
    },
    {
      "cell_type": "code",
      "source": [
        "args = {'tau': ,\n",
        "        'beta': ,\n",
        "        'step_size': ,\n",
        "        'nb_steps': }"
      ],
      "metadata": {
        "id": "sBT1BdjLiOGK"
      },
      "execution_count": null,
      "outputs": []
    },
    {
      "cell_type": "markdown",
      "source": [
        "### Error Functional\n"
      ],
      "metadata": {
        "id": "ej_QzspqcKxK"
      }
    },
    {
      "cell_type": "code",
      "source": [
        "def f_error(t, args):\n",
        "  \"\"\"\n",
        "  inputs:\n",
        "    t - time value of spike\n",
        "  returns:\n",
        "    \n",
        "  \"\"\"\n",
        "  tau = args['tau']\n",
        "  beta = args['beta']\n",
        "\n",
        "  f = 1/tau * torch.exp(-beta/t)* torch.exp(-t/tau)\n",
        "  \n",
        "  return f\n",
        "\n",
        "def error_functional(output, target, args):\n",
        "  \"\"\"\n",
        "  inputs:\n",
        "    output - output spike train\n",
        "    target - target spike train\n",
        "  returns:\n",
        "    error functional value\n",
        "  \"\"\"\n",
        "  nb_steps = args['nb_steps']\n",
        "  step_size = args['step_size']\n",
        "\n",
        "  output = step_size*torch.ones(nb_steps)\n",
        "\n",
        "  value = (torch.sum(f_error(output, args)) - torch.sum(f_error(target, args)))**2\n",
        "\n",
        "  return value ## not finished"
      ],
      "metadata": {
        "id": "MMyqxOV8cEan"
      },
      "execution_count": null,
      "outputs": []
    },
    {
      "cell_type": "markdown",
      "source": [
        "### Weight Update"
      ],
      "metadata": {
        "id": "ml9iSig7jhZN"
      }
    },
    {
      "cell_type": "code",
      "source": [
        ""
      ],
      "metadata": {
        "id": "MI_oedIWjXj-"
      },
      "execution_count": null,
      "outputs": []
    },
    {
      "cell_type": "markdown",
      "source": [
        "### Witness Network"
      ],
      "metadata": {
        "id": "2lye8Px3kOpu"
      }
    },
    {
      "cell_type": "code",
      "source": [
        ""
      ],
      "metadata": {
        "id": "Sl5GFz6vkQue"
      },
      "execution_count": null,
      "outputs": []
    },
    {
      "cell_type": "markdown",
      "source": [
        "### MAPE Criterion"
      ],
      "metadata": {
        "id": "DMe3GMxFkTT2"
      }
    },
    {
      "cell_type": "code",
      "source": [
        ""
      ],
      "metadata": {
        "id": "jhBx29nokVwG"
      },
      "execution_count": null,
      "outputs": []
    },
    {
      "cell_type": "markdown",
      "source": [
        ""
      ],
      "metadata": {
        "id": "5k3yTtOEje-4"
      }
    },
    {
      "cell_type": "markdown",
      "source": [
        "### Single Layer Networks"
      ],
      "metadata": {
        "id": "p26W15cgnf1n"
      }
    },
    {
      "cell_type": "code",
      "source": [
        "nb_inputs = 10\n",
        "nb_outputs = 1"
      ],
      "metadata": {
        "id": "06NDXrAune71"
      },
      "execution_count": null,
      "outputs": []
    },
    {
      "cell_type": "code",
      "source": [
        "def initialize_weights(nb_inputs, nb_outputs, scale=70):\n",
        "  weights = torch.empty((nb_inputs, nb_outputs), device=device, dtype=dtype)\n",
        "  torch.nn.init.normal_(weights, mean=0, std=weight_scale/np.sqrt(nb_inputs))\n",
        "  print(\"Weight initialization done\")\n",
        "  return weights"
      ],
      "metadata": {
        "id": "jt_rhepdnnrH"
      },
      "execution_count": null,
      "outputs": []
    },
    {
      "cell_type": "code",
      "source": [
        "def plot_weight_distribution(weights):\n",
        "  weights = torch.flatten(weights).cpu()\n",
        "  plt.hist(weights, bins='fd')\n",
        "  plt.title(\"Weight Distribution\")\n",
        "  plt.show()\n",
        "  "
      ],
      "metadata": {
        "id": "tnKIZ95FosGj"
      },
      "execution_count": null,
      "outputs": []
    }
  ]
}