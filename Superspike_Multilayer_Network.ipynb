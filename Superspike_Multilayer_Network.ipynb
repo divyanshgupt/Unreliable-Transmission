{
  "nbformat": 4,
  "nbformat_minor": 0,
  "metadata": {
    "colab": {
      "name": "Superspike Multilayer Network.ipynb",
      "provenance": [],
      "toc_visible": true,
      "include_colab_link": true
    },
    "kernelspec": {
      "name": "python3",
      "display_name": "Python 3"
    },
    "language_info": {
      "name": "python"
    }
  },
  "cells": [
    {
      "cell_type": "markdown",
      "metadata": {
        "id": "view-in-github",
        "colab_type": "text"
      },
      "source": [
        "<a href=\"https://colab.research.google.com/github/divyanshgupt/Unreliable-Transmission/blob/main/Superspike_Multilayer_Network.ipynb\" target=\"_parent\"><img src=\"https://colab.research.google.com/assets/colab-badge.svg\" alt=\"Open In Colab\"/></a>"
      ]
    },
    {
      "cell_type": "code",
      "metadata": {
        "id": "m9CfLKIEOWa_"
      },
      "source": [
        "#@title Dependencies\n",
        "import numpy as np\n",
        "from matplotlitb import pyplot as plt\n",
        "\n",
        "import torch\n",
        "\n",
        "from tqdm import tqdm"
      ],
      "execution_count": null,
      "outputs": []
    },
    {
      "cell_type": "code",
      "metadata": {
        "id": "cKRsuE93O0nv"
      },
      "source": [
        "dtype = torch.float\n",
        "device = torch.device('cpu')\n",
        "\n",
        "# device = torch.device('cuda:0')\n"
      ],
      "execution_count": null,
      "outputs": []
    },
    {
      "cell_type": "code",
      "metadata": {
        "id": "-FRzgsV_PDXX"
      },
      "source": [
        "nb_inputs = 100\n",
        "nb_hidden = 4\n",
        "nb_outputs = 1"
      ],
      "execution_count": null,
      "outputs": []
    },
    {
      "cell_type": "code",
      "metadata": {
        "id": "RWFGW-MgPJC1"
      },
      "source": [
        "args = {'thres': -50,\n",
        "        'u_rest': -60,\n",
        "        'tau_mem': 1e-2,\n",
        "        'tau_syn': 5e-3,\n",
        "        'tau_ref': 5e-3,\n",
        "        't_rise': 5e-3, # the pre-synaptic double exponential kernel rise time\n",
        "        't_decay': 1e-2, # the pre-synaptic double exponential kernel decay time\n",
        "        'timestep_size': 1e-4, # 0.1 msec\n",
        "        't_rise_alpha': 5e-3, # change this\n",
        "        't_decay_alpha': 1e-2, # change this \n",
        "        'nb_steps': 5000} # 0.5 secs in total\n",
        "\n",
        "nb_steps = args['nb_steps']\n",
        "timestep_size = args['timestep_size']"
      ],
      "execution_count": null,
      "outputs": []
    },
    {
      "cell_type": "code",
      "metadata": {
        "id": "TR2uTW3XTYFl"
      },
      "source": [
        "tau_mem = args['tau_mem']\n",
        "tau_syn = args['tau_syn']\n",
        "dt = args['timestep_size']\n",
        "\n",
        "alpha = float(np.exp(-dt/tau_syn))\n",
        "beta = float(np.exp(-dt/tau_mem))"
      ],
      "execution_count": null,
      "outputs": []
    },
    {
      "cell_type": "code",
      "metadata": {
        "id": "CtYus8_FSXiz"
      },
      "source": [
        "#@title Helper Functions\n",
        "\n",
        "# Presynaptic Trace\n",
        "def presynaptic_trace_2(input_trains, args):\n",
        "  \"\"\"\n",
        "  Evaluates the presynaptic trace (double exponential kernel)\n",
        "  given the whole input trains\n",
        "  Inputs:\n",
        "    input_trains\n",
        "    args:['timestep_size', 't_rise', 't_decay', 'nb_steps']\n",
        "  Returns:\n",
        "    Presynaptic Trace \n",
        "  \"\"\"\n",
        "  dt = args['timestep_size']\n",
        "  t_rise = args['t_rise']\n",
        "  t_decay = args['t_decay']\n",
        "  nb_timesteps = args['nb_steps']\n",
        "  nb_trains = len(input_trains)\n",
        "\n",
        "  trace_1 = torch.zeros((nb_trains, nb_timesteps), device=device, dtype=dtype)\n",
        "  trace_2 = torch.zeros((nb_trains, nb_timesteps), device=device, dtype=dtype)\n",
        "\n",
        "  for t in range(nb_timesteps - 1):\n",
        "    trace_1[:, t+1] = trace_1[:, t] + (-trace_1[:, t]/t_rise + input_trains[:, t])*dt\n",
        "    trace_2[:, t+1] = trace_2[:, t] + (-trace_2[:, t] + trace_1[:, t])*dt/t_decay\n",
        "\n",
        "  return trace_2\n",
        "\n",
        "# Eligibility Trace\n",
        "def eligibility_trace3(hebbian, args):\n",
        "  \"\"\"\n",
        "  Evaluate the hebbian-coincidence based eligibility trace over all timesteps\n",
        "  for all the given synaptic connections in the hebbian matrix using the \n",
        "  double exponential kernel.\n",
        "  Inputs:\n",
        "    hebbian - 2-D matrix of shape: (nb_inputs, nb_outputs)\n",
        "    args: ['timestep_size', 't_rise_alpha', 't_decay_alpha', 'nb_steps']\n",
        "  Returns:\n",
        "    Eligibilty trace matrix of shape: (nb_inputs, nb_outputs, nb_timesteps)\n",
        "  \"\"\"\n",
        "  dt = args['timestep_size']\n",
        "  t_rise = args['t_rise_alpha']\n",
        "  t_decay = args['t_decay_alpha']\n",
        "  nb_timesteps = args['nb_steps']\n",
        "  nb_inputs = hebbian.shape[0]\n",
        "  nb_outputs = hebbian.shape[1]\n",
        "\n",
        "  trace_1 = torch.zeros((nb_inputs, nb_outputs, nb_timesteps), device=device,\n",
        "                       dtype=dtype)\n",
        "  trace_2 = torch.zeros((nb_inputs, nb_outputs, nb_timesteps), device=device,\n",
        "                        dtype=dtype)\n",
        "  for t in range(nb_timesteps-1):\n",
        "    trace_1[:, :, t+1] = trace_1[:, :, t] + (-trace_1[:, :, t]/t_rise + hebbian[:, :, t])*dt\n",
        "    trace_2[:, :, t+1] = trace_2[:, :, t] + (-trace_2[:, :, t] + trace_1[:, :, t])*dt/t_decay\n",
        "  \n",
        "  return trace_2\n",
        "\n",
        "# Error Signal\n",
        "def error_signal3(output, target, args):\n",
        "  \"\"\"\n",
        "  Evaluates the error signal by running the double exponential \n",
        "  kernel on the difference of the output and the target spike trains.\n",
        "  Inputs:\n",
        "    output - spike_train, shape: (nb_timesteps,)\n",
        "    target - spike_train, shape: (nb_timesteps,)\n",
        "    args:['timestep_size', 't_rise_alpha', 't_decay_alpha', 'nb_steps']\n",
        "  Returns\n",
        "    Error Signal Trace of shape: (nb_timesteps,)\n",
        "  \"\"\"\n",
        "  t_rise = args['t_rise_alpha']\n",
        "  t_decay = args['t_decay_alpha']\n",
        "  dt = args['timestep_size']\n",
        "  nb_timesteps = args['nb_steps']\n",
        "\n",
        "  trace_1 = torch.zeros(nb_timesteps, device=device, dtype=dtype)\n",
        "  trace_2 = torch.zeros(nb_timesteps, device=device, dtype=dtype)\n",
        "\n",
        "  difference = target - output\n",
        "  for t in range(nb_timesteps - 1):\n",
        "    trace_1[t + 1] = trace_1[t] + (-trace_1[t]/t_rise + difference[t])*dt\n",
        "    trace_2[t + 1] = trace_2[t] + (-trace_2[t] + trace_1[t])*dt/t_decay\n",
        "\n",
        "  return trace_2\n",
        "\n",
        "# Feedback Signal\n",
        "\n",
        "\n",
        "# Poisson Train Generator\n",
        "def Poisson_trains(n, lam, timesteps, dt):\n",
        "  \"\"\"\n",
        "  Generates homogeneous poisson trains\n",
        "  inputs:\n",
        "    n - number of poisson spike trains \n",
        "    lam - 1-D array containing mean value of poisson trains\n",
        "  Returns\n",
        "    2-D array of shape (n,timesteps)\n",
        "  \"\"\"\n",
        "  trains = torch.zeros((n, timesteps), device=device, dtype=dtype)\n",
        "  unif = torch.rand((n, timesteps), device=device, dtype=dtype)\n",
        "  for i in range(n):\n",
        "    trains[unif <= lam[i]*dt] = 1\n",
        "\n",
        "  return trains\n"
      ],
      "execution_count": null,
      "outputs": []
    },
    {
      "cell_type": "code",
      "metadata": {
        "id": "P_R5dMngyPj3"
      },
      "source": [
        "#@title Plotting Functions\n",
        "def plot_single_train(spike_train, nb_steps, timestep_size, idx=0):\n",
        "\n",
        "  positions = np.arange(0, nb_steps)\n",
        "  spike_positions = positions[spike_train == 1]\n",
        " # print(spike_positions)\n",
        "  plt.eventplot(spike_positions, lineoffsets=idx)\n",
        "  plt.xlim(0, nb_steps)\n",
        "  #plt.show()\n",
        "\n",
        "def plot_trains(spike_trains, title='Spike Trains'):\n",
        "  plt.figure(dpi = 100)\n",
        "  for i in range(len(spike_trains)):\n",
        "    plot_single_train(spike_trains[i], nb_steps, timestep_size, idx=i)\n",
        "  plt.title(title)\n",
        "  plt.xlabel('Timestep')\n",
        "  plt.ylabel('Spike Train No.')\n",
        "  plt.show()\n",
        "\n",
        "\n",
        "def plot_traces(eligiblity_rec, pre_synaptic_rec, input_trains, idx):\n",
        "    \n",
        "  j = idx\n",
        "\n",
        "  fig, axs = plt.subplots(3, sharex=True, figsize=(15,10), dpi=120)\n",
        "\n",
        "  axs[0].plot(eligibility_rec[j])\n",
        "  axs[0].set_title(\"Eligibility Trace No.\" + str(j))\n",
        " \n",
        "  positions = np.arange(0, nb_steps)\n",
        "  spike_positions = positions[input_trains[j] == 1]\n",
        "  axs[1].eventplot(spike_positions)\n",
        "  axs[1].set_title(\"Corresponding Input Train No.\" + str(j))\n",
        "  axs[1].set_xlim([0, nb_steps])\n",
        "\n",
        "  axs[2].plot(pre_trace_rec[j])\n",
        "  axs[2].set_title(\"Presynaptic Trace No.\" + str(j))\n",
        "\n",
        "  for ax in axs.flat:\n",
        "    ax.set(xlabel = \"Timestep\")\n",
        "    # Hide x labels and tick labels for top plots and y ticks for right plots:\n",
        "    ax.label_outer()\n",
        "\n",
        " # fig.show()\n",
        "\n",
        "def plot_neuron_dynamics(mem_rec, spk_rec, error_rec, target):\n",
        "\n",
        "  fig, axs = plt.subplots(4, sharex=True, figsize=(15, 10), dpi=120)\n",
        "\n",
        "  ## Plot the target spike train\n",
        "  positions = np.arange(0, nb_steps)\n",
        "  spike_positions = positions[target == 1]\n",
        "  axs[0].eventplot(spike_positions)\n",
        "  axs[0].set_title(\"Target Spike Train\")\n",
        "  axs[0].set_xlim([0, nb_steps])\n",
        "\n",
        "  ## Plot error signal\n",
        "  axs[1].plot(error_rec)\n",
        "  axs[1].set_title(\"Error Signal\")\n",
        "\n",
        "  ## Plot output spike train\n",
        "  positions = np.arange(0, nb_steps)\n",
        "  spike_positions = positions[spk_rec == 1]\n",
        "  axs[2].eventplot(spike_positions)\n",
        "  axs[2].set_title(\"Output Spike Train\")\n",
        "  axs[2].set_xlim([0, nb_steps])\n",
        "\n",
        "  ## Plot membrane potential\n",
        "  axs[3].plot(mem_rec)\n",
        "  axs[3].set_title(\"Membrane Potential\")\n",
        "  axs[3].set_ylabel(\"Potential (in mV)\")\n",
        "\n",
        "  for ax in axs.flat:\n",
        "    ax.set(xlabel = \"Timestep\")\n",
        "    # Hide x labels and tick labels for top plots and y ticks for right plots:\n",
        "    ax.label_outer()\n",
        "\n",
        " # fig.show()"
      ],
      "execution_count": null,
      "outputs": []
    },
    {
      "cell_type": "markdown",
      "metadata": {
        "id": "FWnIvKlkyXpq"
      },
      "source": [
        "### Task\n"
      ]
    },
    {
      "cell_type": "code",
      "metadata": {
        "id": "cJiVL2VdSalu"
      },
      "source": [
        "#@title Input & Target\n",
        "\n",
        "input_trains = poisson_generator()"
      ],
      "execution_count": null,
      "outputs": []
    },
    {
      "cell_type": "code",
      "metadata": {
        "id": "Z1SzKxzBSeIn"
      },
      "source": [
        "#@title Weight Initialization\n",
        "\n",
        "# Weights from Input Layer to Hidden Layer\n",
        "w1 = torch.empty((nb_inputs, nb_hidden), device=device, dtype=dtype)\n",
        "torch.nn.init.\n",
        "# Weights from Hidden Layer to Output Layer\n",
        "w2 = torch.empty((nb_hidden, nb_outputs), device=device, dtype=dtype))\n",
        "torch.nn.init.\n",
        "\n",
        "print(\"Weight Initialization Done\")"
      ],
      "execution_count": null,
      "outputs": []
    },
    {
      "cell_type": "code",
      "metadata": {
        "id": "YhKrvNmp2r5H",
        "outputId": "791ce1a0-028e-48d8-9855-5ecd8554e71e",
        "colab": {
          "base_uri": "https://localhost:8080/"
        }
      },
      "source": [
        "a = [1, 2, 3]\n",
        "print(\"A:\", a)\n",
        "\n",
        "b = [5, 4, 3]\n",
        "print(\"B:\", b)\n",
        "\n",
        "a[2 in b] = 8\n",
        "print(\"A:\", a)\n",
        "\n",
        "print(0 in b)\n",
        "a[(0 in b)]"
      ],
      "execution_count": 8,
      "outputs": [
        {
          "output_type": "stream",
          "name": "stdout",
          "text": [
            "A: [1, 2, 3]\n",
            "B: [5, 4, 3]\n",
            "A: [8, 2, 3]\n",
            "False\n"
          ]
        },
        {
          "output_type": "execute_result",
          "data": {
            "text/plain": [
              "8"
            ]
          },
          "metadata": {},
          "execution_count": 8
        }
      ]
    },
    {
      "cell_type": "code",
      "metadata": {
        "id": "XADaoK5A4GId",
        "outputId": "1ea5ede8-0ff2-404f-ec38-3aa76010dcd3",
        "colab": {
          "base_uri": "https://localhost:8080/",
          "height": 178
        }
      },
      "source": [
        "a = [[1, 2, 3], [6, 7, 8], [4,2,9]]\n",
        "print(a[:, 1])"
      ],
      "execution_count": 10,
      "outputs": [
        {
          "output_type": "error",
          "ename": "TypeError",
          "evalue": "ignored",
          "traceback": [
            "\u001b[0;31m---------------------------------------------------------------------------\u001b[0m",
            "\u001b[0;31mTypeError\u001b[0m                                 Traceback (most recent call last)",
            "\u001b[0;32m<ipython-input-10-0dbede222e67>\u001b[0m in \u001b[0;36m<module>\u001b[0;34m()\u001b[0m\n\u001b[1;32m      1\u001b[0m \u001b[0ma\u001b[0m \u001b[0;34m=\u001b[0m \u001b[0;34m[\u001b[0m\u001b[0;34m[\u001b[0m\u001b[0;36m1\u001b[0m\u001b[0;34m,\u001b[0m \u001b[0;36m2\u001b[0m\u001b[0;34m,\u001b[0m \u001b[0;36m3\u001b[0m\u001b[0;34m]\u001b[0m\u001b[0;34m,\u001b[0m \u001b[0;34m[\u001b[0m\u001b[0;36m6\u001b[0m\u001b[0;34m,\u001b[0m \u001b[0;36m7\u001b[0m\u001b[0;34m,\u001b[0m \u001b[0;36m8\u001b[0m\u001b[0;34m]\u001b[0m\u001b[0;34m,\u001b[0m \u001b[0;34m[\u001b[0m\u001b[0;36m4\u001b[0m\u001b[0;34m,\u001b[0m\u001b[0;36m2\u001b[0m\u001b[0;34m,\u001b[0m\u001b[0;36m9\u001b[0m\u001b[0;34m]\u001b[0m\u001b[0;34m]\u001b[0m\u001b[0;34m\u001b[0m\u001b[0;34m\u001b[0m\u001b[0m\n\u001b[0;32m----> 2\u001b[0;31m \u001b[0mprint\u001b[0m\u001b[0;34m(\u001b[0m\u001b[0ma\u001b[0m\u001b[0;34m[\u001b[0m\u001b[0;34m:\u001b[0m\u001b[0;34m,\u001b[0m \u001b[0;36m1\u001b[0m\u001b[0;34m]\u001b[0m\u001b[0;34m)\u001b[0m\u001b[0;34m\u001b[0m\u001b[0;34m\u001b[0m\u001b[0m\n\u001b[0m",
            "\u001b[0;31mTypeError\u001b[0m: list indices must be integers or slices, not tuple"
          ]
        }
      ]
    },
    {
      "cell_type": "code",
      "metadata": {
        "id": "Ss1lOB2MSlVn"
      },
      "source": [
        "\n",
        "epochs = 10\n",
        "\n",
        "def run_snn(input_trains, w1, w2, args):\n",
        "  \"\"\"\n",
        "  Input:\n",
        "    input_trains\n",
        "    w1 - input >> hidden layer weights\n",
        "    w2 - hidden >> output layer weights\n",
        "    args:['u_rest', 'thres']\n",
        "  Returns:\n",
        "    spk_rec_2 - final output spike train\n",
        "    spk_rec_2 - spike train from the hidden layer\n",
        "    mem_rec_2 - membrane potential recording from the output layer\n",
        "    mem_rec_1 - membrane potential recording from the hidden layer\n",
        "  \"\"\"\n",
        "\n",
        "  nb_inputs = w1.shape[0]\n",
        "  nb_hidden = w1.shape[1]\n",
        "  nb_outputs = w2.shape[1]\n",
        "  u_rest = args['u_rest']\n",
        "  thres = args['thres']\n",
        "\n",
        "\n",
        "  mem_1 = torch.zeros(nb_hidden, dtype=dtype, device=device)\n",
        "  syn_1 = torch.zeros(nb_hidden, dtype=dtype, device=device)\n",
        "  mem_2 = torch.zeros(nb_outputs, dtype=dtype, device=device)\n",
        "  syn_2 = torch.zeros(nb_outputs, dtype=dtype, device=device)\n",
        "\n",
        "  # initialize lists to record values\n",
        "  mem_rec_1 = []\n",
        "  mem_rec_1 = []\n",
        "  spk_rec_1 = []\n",
        "  spk_rec_2 = []\n",
        "  \n",
        "  for t in range(nb_steps):\n",
        "    # Spike\n",
        "    out_1 = spike_fn(mem_1, thres)\n",
        "    spk_rec_1.append(out_1)\n",
        "    inp_2 = out_1 # input to the next layer\n",
        "\n",
        "    # Reseting membrane potential upon spike\n",
        "    reset_1 = torch.zeros(nb_hidden, dtype=dtype, device=device)\n",
        "    for i in range(nb_hidden): # loop through individual neurons and set reset values based on pask activity\n",
        "      spk_rec_1_i = [row[i] for row in spk_rec] # obtains the spiking activity of neuron of interest\n",
        "      if t < 50:\n",
        "        if 1 in spk_rec_1_i:\n",
        "          reset_1[i] = 1\n",
        "      elif 1 in spk_rec_1_i[-50:]:\n",
        "        reset_1[i] = 1\n",
        "      else:\n",
        "        reset_1[i] = 0\n",
        "      \n",
        "    # evaluating new membrane potential and synaptic input \n",
        "    weighted_inp_1 = w1.T * input_trains[:, t] # final shape: (nb_hidden, )\n",
        "    new_mem_1 = (beta*mem_1 + (1 - beta)*syn_1 + (1 - beta)*u_rest)*(1 - reset_1) + (reset_1 * u_rest)\n",
        "    new_syn_1 = alpha*syn_1 + weighted_inp_1\n",
        "\n",
        "    mem_rec_1.append(mem)\n",
        "\n",
        "    mem_1 = new_mem_1\n",
        "    syn_1 = new_syn_1\n",
        "\n",
        "    # Readout Layer\n",
        "    reset_2 = torch.zeros(nb_outputs, dtype=dtype, device=device)\n",
        "\n",
        "    for i in range(nb_outputs):\n",
        "      spk_rec_2_i = [row[i] for row in spk_rec_2]\n",
        "      if t < 50:\n",
        "        if 1 in spk_rec_2_i:\n",
        "          reset_2[i] = 1\n",
        "      elif 1 in spk_rec_2_i[-50:]:\n",
        "        reset_2[i] = 1\n",
        "      else:\n",
        "        reset_2[i] = 0\n",
        "\n",
        "    # evaluating new membrane potential and synaptic input\n",
        "    out_2 = spike_fn(mem_2, thres)\n",
        "    spk_rec_2.append(out_2)\n",
        "\n",
        "    weighted_inp_2 = w2.T * inp_2 # final shape: (nb_outputs,)\n",
        "    new_mem_2 = (beta*mem_2 + (1 - beta)*syn_2 + (1 - beta)*u_rest)*(1 - reset_2) + (reset_2 * u_rest)\n",
        "    new_syn_2 = alpha*syn_2 + weighted_inp_2 # change input term\n",
        "\n",
        "    mem_rec_2.append(mem_2)\n",
        "\n",
        "    mem_2 = new_mem_2\n",
        "    syn_2 = new_syn_2\n",
        "\n",
        "return spk_rec2, spk_rec_1, mem_rec_2, mem_rec_1\n"
      ],
      "execution_count": null,
      "outputs": []
    }
  ]
}