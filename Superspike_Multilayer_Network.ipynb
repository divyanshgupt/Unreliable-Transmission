{
  "nbformat": 4,
  "nbformat_minor": 0,
  "metadata": {
    "colab": {
      "name": "Superspike Multilayer Network.ipynb",
      "provenance": [],
      "toc_visible": true,
      "authorship_tag": "ABX9TyO92yWPn0hcr62iA+Xw6dhm",
      "include_colab_link": true
    },
    "kernelspec": {
      "name": "python3",
      "display_name": "Python 3"
    },
    "language_info": {
      "name": "python"
    }
  },
  "cells": [
    {
      "cell_type": "markdown",
      "metadata": {
        "id": "view-in-github",
        "colab_type": "text"
      },
      "source": [
        "<a href=\"https://colab.research.google.com/github/divyanshgupt/Unreliable-Transmission/blob/main/Superspike_Multilayer_Network.ipynb\" target=\"_parent\"><img src=\"https://colab.research.google.com/assets/colab-badge.svg\" alt=\"Open In Colab\"/></a>"
      ]
    },
    {
      "cell_type": "code",
      "metadata": {
        "id": "m9CfLKIEOWa_"
      },
      "source": [
        "#@title Dependencies\n",
        "import numpy as np\n",
        "from matplotlitb import pyplot as plt\n",
        "\n",
        "import torch\n",
        "\n",
        "from tqdm import tqdm"
      ],
      "execution_count": null,
      "outputs": []
    },
    {
      "cell_type": "code",
      "metadata": {
        "id": "cKRsuE93O0nv"
      },
      "source": [
        "dtype = torch.float\n",
        "device = torch.device('cpu')\n",
        "\n",
        "# device = torch.device('cuda:0')\n"
      ],
      "execution_count": null,
      "outputs": []
    },
    {
      "cell_type": "code",
      "metadata": {
        "id": "-FRzgsV_PDXX"
      },
      "source": [
        "nb_inputs = 100\n",
        "nb_hidden = 4\n",
        "nb_outputs = 2"
      ],
      "execution_count": null,
      "outputs": []
    },
    {
      "cell_type": "code",
      "metadata": {
        "id": "RWFGW-MgPJC1"
      },
      "source": [
        "args = {'thres': -50,\n",
        "        'u_rest': -60,\n",
        "        'tau_mem': 1e-2,\n",
        "        'tau_syn': 5e-3,\n",
        "        'tau_ref': 5e-3,\n",
        "        't_rise': 5e-3, # the pre-synaptic double exponential kernel rise time\n",
        "        't_decay': 1e-2, # the pre-synaptic double exponential kernel decay time\n",
        "        'timestep_size': 1e-4, # 0.1 msec\n",
        "        't_rise_alpha': 5e-3, # change this\n",
        "        't_decay_alpha': 1e-2} # change this\n",
        "\n",
        "nb_steps = 5000 # 0.5 secs in total\n",
        "timestep_size = args['timestep_size']"
      ],
      "execution_count": null,
      "outputs": []
    },
    {
      "cell_type": "code",
      "metadata": {
        "id": "TR2uTW3XTYFl"
      },
      "source": [
        "tau_mem = args['tau_mem']\n",
        "tau_syn = args['tau_syn']\n",
        "dt = args['timestep_size']\n",
        "\n",
        "alpha = float(np.exp(-dt/tau_syn))\n",
        "beta = float(np.exp(-dt/tau_mem))"
      ],
      "execution_count": null,
      "outputs": []
    },
    {
      "cell_type": "code",
      "metadata": {
        "id": "CtYus8_FSXiz"
      },
      "source": [
        "#@title Helper Functions\n",
        "\n",
        "# Presynaptic Trace\n",
        "\n",
        "\n",
        "# Eligibility Trace\n",
        "\n",
        "\n",
        "# Error Signal\n",
        "\n",
        "\n",
        "# Poisson Train Generator\n",
        "\n",
        "\n",
        "# Trace Plotter"
      ],
      "execution_count": null,
      "outputs": []
    },
    {
      "cell_type": "code",
      "metadata": {
        "id": "cJiVL2VdSalu"
      },
      "source": [
        "#@title Input & Target\n",
        "\n",
        "input_trains = poisson_generator()"
      ],
      "execution_count": null,
      "outputs": []
    },
    {
      "cell_type": "code",
      "metadata": {
        "id": "Z1SzKxzBSeIn"
      },
      "source": [
        "#@title Weight Initialization\n",
        "\n",
        "# Weights from Input Layer to Hidden Layer\n",
        "w1 = torch.empty((nb_inputs, nb_hidden), device=device, dtype=dtype)\n",
        "torch.nn.init.\n",
        "# Weights from Hidden Layer to Output Layer\n",
        "w2 = torch.empty((nb_hidden, nb_outputs), device=device, dtype=dtype))\n",
        "torch.nn.init.\n",
        "\n",
        "print(\"Weight Initialization Done\")"
      ],
      "execution_count": null,
      "outputs": []
    },
    {
      "cell_type": "code",
      "metadata": {
        "id": "Ss1lOB2MSlVn"
      },
      "source": [
        "u_rest = args['u_rest']\n",
        "thres = args['thres']\n",
        "\n",
        "epochs = 10\n",
        "\n",
        "for i in range(epochs):\n",
        "\n",
        "  mem_1 = torch.zeros(nb_hidden, dtype=dtype, device=device)\n",
        "  syn_1 = torch.zeros(nb_hidden, dtype=dtype, device=device)\n",
        "\n",
        "  mem_2 = torch.zeros(nb_outputs, dtype=dtype, device=device)\n",
        "  syn_2 = torch.zeros(nb_outputs, dtype=dtype, device=device)\n",
        "\n",
        "  # initialize lists to record values\n",
        "  mem_rec_1 = []\n",
        "  mem_rec_1 = []\n",
        "  spk_rec_1 = []\n",
        "  spk_rec_2 = []\n",
        "  \n",
        "  for t in range(nb_steps):\n",
        "\n",
        "    # Spike\n",
        "    out_1 = spike_fn(mem_1, thres)\n",
        "    spk_rec_1.append(out_1)\n",
        "\n",
        "    # Reseting membrane potential upon spike\n",
        "    ## NOTE: change this for an implementation with multiple neurons and multiple spike trains\n",
        "    if t < 50: \n",
        "      if 1 in spk_rec_1:\n",
        "        reset_1 = 1\n",
        "    elif 1 in spk_rec_1[-50:]:\n",
        "      reset_1 = 1\n",
        "    else:\n",
        "      reset_1 = 0\n",
        "\n",
        "    # evaluating new membrane potential and synaptic input \n",
        "    new_mem_1 = (beta*mem_1 + (1 - beta)*syn_1 + (1 - beta)*u_rest)*(1 - reset_1) + (reset_1 * u_rest)\n",
        "    new_syn_1 = alpha*syn_1 + w1 * input_trains[:, t]\n",
        "\n",
        "    mem_rec_1.append(mem)\n",
        "\n",
        "    mem_1 = new_mem_1\n",
        "    syn_1 = new_syn_1\n",
        "\n",
        "    # Readout Layer\n",
        "    \n",
        "    new_mem_2 = (beta*mem_2 + (1 - beta)*syn_2 + (1 - beta)*u_rest)*(1 - reset_2) + (reset_2 * u_rest)\n",
        "    new_syn_2 = alpha*syn_2 + w2 * input_trains[:, t] # change input term\n"
      ],
      "execution_count": null,
      "outputs": []
    }
  ]
}