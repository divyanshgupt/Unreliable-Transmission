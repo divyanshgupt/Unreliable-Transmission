{
  "nbformat": 4,
  "nbformat_minor": 0,
  "metadata": {
    "colab": {
      "name": "Superspike Multilayer Network.ipynb",
      "provenance": [],
      "toc_visible": true,
      "include_colab_link": true
    },
    "kernelspec": {
      "name": "python3",
      "display_name": "Python 3"
    },
    "language_info": {
      "name": "python"
    },
    "accelerator": "GPU"
  },
  "cells": [
    {
      "cell_type": "markdown",
      "metadata": {
        "id": "view-in-github",
        "colab_type": "text"
      },
      "source": [
        "<a href=\"https://colab.research.google.com/github/divyanshgupt/Unreliable-Transmission/blob/main/Superspike_Multilayer_Network.ipynb\" target=\"_parent\"><img src=\"https://colab.research.google.com/assets/colab-badge.svg\" alt=\"Open In Colab\"/></a>"
      ]
    },
    {
      "cell_type": "code",
      "metadata": {
        "id": "m9CfLKIEOWa_"
      },
      "source": [
        "#@title Dependencies\n",
        "import numpy as np\n",
        "from matplotlib import pyplot as plt\n",
        "\n",
        "import torch\n",
        "\n",
        "from tqdm import tqdm"
      ],
      "execution_count": 1,
      "outputs": []
    },
    {
      "cell_type": "code",
      "metadata": {
        "id": "cKRsuE93O0nv"
      },
      "source": [
        "dtype = torch.float\n",
        "#device = torch.device('cpu')\n",
        "\n",
        "device = torch.device('cuda:0')"
      ],
      "execution_count": 2,
      "outputs": []
    },
    {
      "cell_type": "code",
      "metadata": {
        "id": "-FRzgsV_PDXX"
      },
      "source": [
        "nb_inputs = 100\n",
        "nb_hidden = 4\n",
        "nb_outputs = 1"
      ],
      "execution_count": 3,
      "outputs": []
    },
    {
      "cell_type": "code",
      "metadata": {
        "id": "RWFGW-MgPJC1"
      },
      "source": [
        "args = {'thres': -50,\n",
        "        'u_rest': -60,\n",
        "        'tau_mem': 1e-2,\n",
        "        'tau_syn': 5e-3,\n",
        "        'tau_ref': 5e-3,\n",
        "        't_rise': 5e-3, # the pre-synaptic double exponential kernel rise time\n",
        "        't_decay': 1e-2, # the pre-synaptic double exponential kernel decay time\n",
        "        'timestep_size': 1e-4, # 0.1 msec\n",
        "        't_rise_alpha': 5e-3, # change this\n",
        "        't_decay_alpha': 1e-2, # change this \n",
        "        'nb_steps': 5000, # 0.5 secs in total\n",
        "        'tau_rms': 5e-3\n",
        "        } \n",
        "nb_steps = args['nb_steps']\n",
        "timestep_size = args['timestep_size']"
      ],
      "execution_count": 4,
      "outputs": []
    },
    {
      "cell_type": "code",
      "metadata": {
        "id": "TR2uTW3XTYFl"
      },
      "source": [
        "tau_mem = args['tau_mem']\n",
        "tau_syn = args['tau_syn']\n",
        "dt = args['timestep_size']\n",
        "\n",
        "alpha = float(np.exp(-dt/tau_syn))\n",
        "beta = float(np.exp(-dt/tau_mem))"
      ],
      "execution_count": 5,
      "outputs": []
    },
    {
      "cell_type": "markdown",
      "metadata": {
        "id": "dtArTYk-1KDB"
      },
      "source": [
        "### Helper Functions"
      ]
    },
    {
      "cell_type": "code",
      "metadata": {
        "id": "VKoh-tfV1NVt"
      },
      "source": [
        "#@title Threshold Spike Function\n",
        "def spike_fn(x, thres):\n",
        "  \"\"\"\n",
        "  Implements a heaviside function centred at the firing threshold\n",
        "  \"\"\"\n",
        "  x = x - thres\n",
        "  out = torch.zeros_like(x, device=device, dtype=dtype)\n",
        "  out[x > 0] = 1\n",
        "  return out"
      ],
      "execution_count": 6,
      "outputs": []
    },
    {
      "cell_type": "code",
      "metadata": {
        "id": "7MjbbXfr1Roe"
      },
      "source": [
        "#@title Presynaptic Trace\n",
        "def presynaptic_trace(input_trains, args):\n",
        "  \"\"\"\n",
        "  Evaluates the presynaptic trace (double exponential kernel)\n",
        "  given the whole input trains\n",
        "  Inputs:\n",
        "    input_trains\n",
        "    args:['timestep_size', 't_rise', 't_decay', 'nb_steps']\n",
        "  Returns:\n",
        "    Presynaptic Trace \n",
        "  \"\"\"\n",
        "  dt = args['timestep_size']\n",
        "  t_rise = args['t_rise']\n",
        "  t_decay = args['t_decay']\n",
        "  nb_timesteps = args['nb_steps']\n",
        "  nb_trains = len(input_trains)\n",
        "\n",
        "  trace_1 = torch.zeros((nb_trains, nb_timesteps), device=device, dtype=dtype)\n",
        "  trace_2 = torch.zeros((nb_trains, nb_timesteps), device=device, dtype=dtype)\n",
        "\n",
        "  for t in range(nb_timesteps - 1):\n",
        "    trace_1[:, t+1] = trace_1[:, t] + (-trace_1[:, t]/t_rise + input_trains[:, t])*dt\n",
        "    trace_2[:, t+1] = trace_2[:, t] + (-trace_2[:, t] + trace_1[:, t])*dt/t_decay\n",
        "\n",
        "  return trace_2"
      ],
      "execution_count": 7,
      "outputs": []
    },
    {
      "cell_type": "code",
      "metadata": {
        "id": "PHH-xiZI1WzR"
      },
      "source": [
        "#@title Eligibility Trace\n",
        "def eligibility_trace(hebbian, args):\n",
        "  \"\"\"\n",
        "  Evaluate the hebbian-coincidence based eligibility trace over all timesteps\n",
        "  for all the given synaptic connections in the hebbian matrix using the \n",
        "  double exponential kernel.\n",
        "  Inputs:\n",
        "    hebbian - 3-D matrix of shape: (nb_inputs, nb_outputs, nb_steps)\n",
        "    args: ['timestep_size', 't_rise_alpha', 't_decay_alpha', 'nb_steps']\n",
        "  Returns:\n",
        "    Eligibilty trace matrix of shape: (nb_inputs, nb_outputs, nb_steps)\n",
        "  \"\"\"\n",
        "  dt = args['timestep_size']\n",
        "  t_rise = args['t_rise_alpha']\n",
        "  t_decay = args['t_decay_alpha']\n",
        "  nb_timesteps = args['nb_steps']\n",
        "  nb_inputs = hebbian.shape[0]\n",
        "  nb_outputs = hebbian.shape[1]\n",
        "\n",
        "  trace_1 = torch.zeros((nb_inputs, nb_outputs, nb_timesteps), device=device,\n",
        "                       dtype=dtype)\n",
        "  trace_2 = torch.zeros((nb_inputs, nb_outputs, nb_timesteps), device=device,\n",
        "                        dtype=dtype)\n",
        "  for t in range(nb_timesteps-1):\n",
        "    trace_1[:, :, t+1] = trace_1[:, :, t] + (-trace_1[:, :, t]/t_rise + hebbian[:, :, t])*dt\n",
        "    trace_2[:, :, t+1] = trace_2[:, :, t] + (-trace_2[:, :, t] + trace_1[:, :, t])*dt/t_decay\n",
        "  \n",
        "  return trace_2"
      ],
      "execution_count": 8,
      "outputs": []
    },
    {
      "cell_type": "code",
      "metadata": {
        "id": "zfqUzspq1ddL"
      },
      "source": [
        "#@title Error Signal\n",
        "def error_signal(output, target, args):\n",
        "  \"\"\"\n",
        "  Evaluates the error signal by running the double exponential \n",
        "  kernel on the difference of the output and the target spike trains.\n",
        "  Inputs:\n",
        "    output - spike_train, shape: (nb_steps,)\n",
        "    target - spike_train, shape: (nb_steps,)\n",
        "    args:['timestep_size', 't_rise_alpha', 't_decay_alpha', 'nb_steps']\n",
        "  Returns\n",
        "    Error Signal Trace of shape: (nb_steps,)\n",
        "  \"\"\"\n",
        "  t_rise = args['t_rise_alpha']\n",
        "  t_decay = args['t_decay_alpha']\n",
        "  dt = args['timestep_size']\n",
        "  nb_timesteps = args['nb_steps']\n",
        "\n",
        "  trace_1 = torch.zeros(nb_timesteps, device=device, dtype=dtype)\n",
        "  trace_2 = torch.zeros(nb_timesteps, device=device, dtype=dtype)\n",
        "\n",
        "  difference = target - output\n",
        "  for t in range(nb_timesteps - 1):\n",
        "    trace_1[t + 1] = trace_1[t] + (-trace_1[t]/t_rise + difference[t])*dt\n",
        "    trace_2[t + 1] = trace_2[t] + (-trace_2[t] + trace_1[t])*dt/t_decay\n",
        "\n",
        "  return trace_2"
      ],
      "execution_count": 9,
      "outputs": []
    },
    {
      "cell_type": "markdown",
      "metadata": {
        "id": "BVfBa9upL8qh"
      },
      "source": [
        "NOTE: (11th Nov 2021) \n",
        "If the loss is normalized in every epoch with the maximum value being set to one then as time passes, non-normalized loss would decrease (assuming learning happens) while normalized loss would not decrease.\n",
        "* Q. How did Zenke, Ganguli normalize the alpha convolution?"
      ]
    },
    {
      "cell_type": "code",
      "metadata": {
        "id": "b8n8XOldX0sM"
      },
      "source": [
        "#@title Loss Function\n",
        "def van_rossum_loss(target, output, args, normalize=False):\n",
        "  \"\"\"\n",
        "  Inputs:\n",
        "    Target - desired spike train\n",
        "    output - output spike train\n",
        "    args: ['t_rise_alpha', 't_decay_alpha', 'timestep_size', nb_steps']\n",
        "  Returns:\n",
        "\n",
        "  \"\"\"\n",
        "\n",
        "  t_rise = args['t_rise_alpha']\n",
        "  t_decay = args['t_decay_alpha']\n",
        "  dt = args['timestep_size']\n",
        "  nb_steps = args['nb_steps']\n",
        "\n",
        "  trace_1 = torch.zeros(nb_steps, device=device, dtype=dtype)\n",
        "  trace_2 = torch.zeros(nb_steps, device=device, dtype=dtype)\n",
        "\n",
        "  difference = target - output\n",
        "\n",
        "  for t in range(nb_steps - 1):\n",
        "    trace_1[t+1] = trace_1[t] + (-trace_1[t]/t_rise + difference[t])*dt\n",
        "    trace_2[t+1] = trace_2[t] + (-trace_2[t] + trace_1[t])*dt/t_decay\n",
        "  \n",
        "\n",
        "  if normalize:\n",
        "    norm_factor = torch.max(trace_2)\n",
        "  else:\n",
        "    norm_factor = 1\n",
        "  \n",
        "  trace_2 /= norm_factor\n",
        "\n",
        "  loss = trace_2**2\n",
        "  loss = torch.sum(loss)*dt\n",
        "\n",
        "  return loss\n"
      ],
      "execution_count": 59,
      "outputs": []
    },
    {
      "cell_type": "code",
      "metadata": {
        "id": "CtYus8_FSXiz"
      },
      "source": [
        "#@title Poisson Train Generator\n",
        "def Poisson_trains(n, lam, timesteps, dt):\n",
        "  \"\"\"\n",
        "  Generates homogeneous poisson trains\n",
        "  inputs:\n",
        "    n - number of poisson spike trains \n",
        "    lam - 1-D array containing mean value of poisson trains\n",
        "  Returns\n",
        "    2-D array of shape (n,timesteps)\n",
        "  \"\"\"\n",
        "  trains = torch.zeros((n, timesteps), device=device, dtype=dtype)\n",
        "  unif = torch.rand((n, timesteps), device=device, dtype=dtype)\n",
        "  for i in range(n):\n",
        "    trains[unif <= lam[i]*dt] = 1\n",
        "\n",
        "  return trains"
      ],
      "execution_count": 11,
      "outputs": []
    },
    {
      "cell_type": "code",
      "metadata": {
        "id": "OhH083Qv6XEu"
      },
      "source": [
        "#@title Feedback Weights\n",
        "\n",
        "def symmetric_feedback(weights):\n",
        "  \"\"\"\n",
        "  Returns symmetric feedback weights (transpose of actual weights)\n",
        "  Inputs:\n",
        "    weights - shape: (nb_inputs, nb_outputs)\n",
        "  Returns:\n",
        "    transpose of weights, shape: (nb_outputs, nb_inputs)\n",
        "  \"\"\"\n",
        "  b1 = torch.empty((nb_outputs, nb_inputs))\n",
        "  \n",
        "  return b1\n",
        "\n",
        "def random_feedback(nb_hidden, nb_outputs, weight_scale):\n",
        "  \"\"\"\n",
        "  Generates random feedback weights based on given layer sizes\n",
        "  Inputs:\n",
        "    nb_hidden - \n",
        "    nb_outputs - \n",
        "    weight_scale - the std deviation is weight_scale/np.sqrt(nb_inputs)\n",
        "  Returns:\n",
        "    Weight matrix of shape: (nb_inputs, nb_outputs)\n",
        "  \"\"\"\n",
        "\n",
        "  b = torch.empty((nb_hidden, nb_outputs), device=device, dtype=dtype)\n",
        "  b = torch.nn.init.normal_(b, mean=0.0, std=weight_scale/np.sqrt(nb_inputs))\n",
        "\n",
        "  return b"
      ],
      "execution_count": 54,
      "outputs": []
    },
    {
      "cell_type": "markdown",
      "metadata": {
        "id": "8YZ9PyBg1pM3"
      },
      "source": [
        "#### Plotting Functions"
      ]
    },
    {
      "cell_type": "code",
      "metadata": {
        "id": "fk8N1cAg1smI"
      },
      "source": [
        "#@title Plot Single Spike Train\n",
        "def plot_single_train(spike_train, nb_steps, timestep_size, idx=0):\n",
        "  \"\"\"\n",
        "  Inputs:\n",
        "    spike_train: \n",
        "    nb_steps:\n",
        "    timestep_size\n",
        "  Returns:\n",
        "    Plots eventplot of spike positions.\n",
        "  \"\"\"\n",
        "  spike_train = torch.flatten(spike_train.cpu())\n",
        "  positions = np.arange(0, nb_steps)\n",
        " # print(spike_train == 1)\n",
        "  spike_positions = positions[spike_train == 1]\n",
        " # print(spike_positions)\n",
        "  plt.eventplot(spike_positions, lineoffsets=idx)\n",
        "  plt.xlim(0, nb_steps)\n",
        "  #plt.show()"
      ],
      "execution_count": 30,
      "outputs": []
    },
    {
      "cell_type": "code",
      "metadata": {
        "id": "THRdq0MJ1xnF"
      },
      "source": [
        "#@title Plot Multiple Spike Trains\n",
        "def plot_trains(spike_trains, title='Spike Trains'):\n",
        "  plt.figure(dpi = 100)\n",
        "  for i in range(len(spike_trains)):\n",
        "    plot_single_train(spike_trains[i], nb_steps, timestep_size, idx=i)\n",
        "  plt.title(title)\n",
        "  plt.xlabel('Timestep')\n",
        "  plt.ylabel('Spike Train No.')\n",
        "  plt.show()\n"
      ],
      "execution_count": 14,
      "outputs": []
    },
    {
      "cell_type": "code",
      "metadata": {
        "id": "0oYfkF0Z18mu"
      },
      "source": [
        "#@title Plot Traces \n",
        "def plot_traces(eligiblity_rec, pre_synaptic_rec, input_trains, idx):\n",
        "    \n",
        "  j = idx\n",
        "\n",
        "  fig, axs = plt.subplots(3, sharex=True, figsize=(15,10), dpi=120)\n",
        "\n",
        "  axs[0].plot(eligibility_rec[j])\n",
        "  axs[0].set_title(\"Eligibility Trace No.\" + str(j))\n",
        " \n",
        "  positions = np.arange(0, nb_steps)\n",
        "  spike_positions = positions[input_trains[j] == 1]\n",
        "  axs[1].eventplot(spike_positions)\n",
        "  axs[1].set_title(\"Corresponding Input Train No.\" + str(j))\n",
        "  axs[1].set_xlim([0, nb_steps])\n",
        "\n",
        "  axs[2].plot(pre_trace_rec[j])\n",
        "  axs[2].set_title(\"Presynaptic Trace No.\" + str(j))\n",
        "\n",
        "  for ax in axs.flat:\n",
        "    ax.set(xlabel = \"Timestep\")\n",
        "    # Hide x labels and tick labels for top plots and y ticks for right plots:\n",
        "    ax.label_outer()\n",
        "\n",
        " # fig.show()"
      ],
      "execution_count": 15,
      "outputs": []
    },
    {
      "cell_type": "code",
      "metadata": {
        "id": "P_R5dMngyPj3"
      },
      "source": [
        "#@title Plot Neuron Dynamics\n",
        "def plot_neuron_dynamics(mem_rec, spk_rec, error_rec, target):\n",
        "\n",
        "  fig, axs = plt.subplots(4, sharex=True, figsize=(15, 10), dpi=120)\n",
        "\n",
        "  ## Plot the target spike train\n",
        "  positions = np.arange(0, nb_steps)\n",
        "  spike_positions = positions[target == 1]\n",
        "  axs[0].eventplot(spike_positions)\n",
        "  axs[0].set_title(\"Target Spike Train\")\n",
        "  axs[0].set_xlim([0, nb_steps])\n",
        "\n",
        "  ## Plot error signal\n",
        "  axs[1].plot(error_rec)\n",
        "  axs[1].set_title(\"Error Signal\")\n",
        "\n",
        "  ## Plot output spike train\n",
        "  positions = np.arange(0, nb_steps)\n",
        "  spike_positions = positions[spk_rec == 1]\n",
        "  axs[2].eventplot(spike_positions)\n",
        "  axs[2].set_title(\"Output Spike Train\")\n",
        "  axs[2].set_xlim([0, nb_steps])\n",
        "\n",
        "  ## Plot membrane potential\n",
        "  axs[3].plot(mem_rec)\n",
        "  axs[3].set_title(\"Membrane Potential\")\n",
        "  axs[3].set_ylabel(\"Potential (in mV)\")\n",
        "\n",
        "  for ax in axs.flat:\n",
        "    ax.set(xlabel = \"Timestep\")\n",
        "    # Hide x labels and tick labels for top plots and y ticks for right plots:\n",
        "    ax.label_outer()\n",
        "\n",
        " # fig.show()"
      ],
      "execution_count": 16,
      "outputs": []
    },
    {
      "cell_type": "code",
      "source": [
        "#@title Plot Weight Distribution\n",
        "def plot_weight_distribution(weights, title=''):\n",
        "  weights = torch.flatten(weights.cpu())\n",
        "  plt.hist(weights, bins='fd')\n",
        "  plt.title(\"Weight Distribution \" + title)\n",
        "  plt.show()"
      ],
      "metadata": {
        "id": "fjcJZMbY3i-n"
      },
      "execution_count": 41,
      "outputs": []
    },
    {
      "cell_type": "markdown",
      "metadata": {
        "id": "FWnIvKlkyXpq"
      },
      "source": [
        "### Task\n",
        "\n",
        "* Same as for the single neuron with 100 input trains.\n"
      ]
    },
    {
      "cell_type": "code",
      "metadata": {
        "id": "cJiVL2VdSalu"
      },
      "source": [
        "#@title Setting Input & Target\n",
        "\n",
        "# 100 independent poisson trains\n",
        "input_trains = Poisson_trains(nb_inputs, 10*np.ones(100), nb_steps, timestep_size)\n",
        "\n",
        "# 5 equidistant spikes over 500 msec.\n",
        "target = torch.zeros((nb_steps), device=device, dtype=dtype)\n",
        "target[::int(nb_steps/5)] = 1"
      ],
      "execution_count": 17,
      "outputs": []
    },
    {
      "cell_type": "markdown",
      "source": [
        "Question: What weight distribution to use?"
      ],
      "metadata": {
        "id": "efLxjhAb2x7Q"
      }
    },
    {
      "cell_type": "code",
      "metadata": {
        "id": "Z1SzKxzBSeIn"
      },
      "source": [
        "#@title Weight Initialization\n",
        "\n",
        "def initialize_weights(nb_inputs, nb_hidden, nb_outputs, weight_scale):\n",
        "\n",
        "  weight_scale = weight_scale*(1 - 0)\n",
        "  # Weights from Input Layer to Hidden Layer\n",
        "  w1 = torch.empty((nb_inputs, nb_hidden), device=device, dtype=dtype)\n",
        "  w1 = torch.nn.init.normal_(w1, mean=0.0, std=weight_scale/np.sqrt(nb_inputs))\n",
        "  # Weights from Hidden Layer to Output Layer\n",
        "  w2 = torch.empty((nb_hidden, nb_outputs), device=device, dtype=dtype)\n",
        "  w2 = torch.nn.init.normal_(w2, mean=0.0, std=weight_scale/np.sqrt(nb_hidden))\n",
        "  \n",
        "  return w1, w2\n"
      ],
      "execution_count": 50,
      "outputs": []
    },
    {
      "cell_type": "code",
      "source": [
        "w1, w2 = initialize_weights(nb_inputs, nb_hidden, nb_outputs)\n",
        "plot_weight_distribution(w1, title='w1')\n",
        "plot_weight_distribution(w1, title='w2')"
      ],
      "metadata": {
        "colab": {
          "base_uri": "https://localhost:8080/",
          "height": 545
        },
        "id": "WByMW9IO23kO",
        "outputId": "a9f54285-8eb5-4dd7-ebb1-13cf8f503def"
      },
      "execution_count": 48,
      "outputs": [
        {
          "output_type": "display_data",
          "data": {
            "image/png": "[encoded data removed]",
            "text/plain": [
              "<Figure size 432x288 with 1 Axes>"
            ]
          },
          "metadata": {
            "needs_background": "light"
          }
        },
        {
          "output_type": "display_data",
          "data": {
            "image/png": "[encoded data removed]",
            "text/plain": [
              "<Figure size 432x288 with 1 Axes>"
            ]
          },
          "metadata": {
            "needs_background": "light"
          }
        }
      ]
    },
    {
      "cell_type": "code",
      "metadata": {
        "id": "Ss1lOB2MSlVn"
      },
      "source": [
        "#@title The Two-layer Network\n",
        "\n",
        "def run_snn(input_trains, w1, w2, args):\n",
        "  \"\"\"\n",
        "  Runs the spiking neural network with one hidden layer for \n",
        "  one epoch (i.e. for the given nb_steps).\n",
        "  Input:\n",
        "    input_trains\n",
        "    w1 - input >> hidden layer weights\n",
        "    w2 - hidden >> output layer weights\n",
        "    args:['u_rest', 'thres']\n",
        "  Returns:\n",
        "    spk_rec_2 - final output spike train\n",
        "    spk_rec_1 - spike train from the hidden layer\n",
        "    mem_rec_2 - membrane potential recording from the output layer\n",
        "    mem_rec_1 - membrane potential recording from the hidden layer\n",
        "  \"\"\"\n",
        "\n",
        "  nb_inputs = w1.shape[0]\n",
        "  nb_hidden = w1.shape[1]\n",
        "  nb_outputs = w2.shape[1]\n",
        "  u_rest = args['u_rest']\n",
        "  thres = args['thres']\n",
        "\n",
        "\n",
        "  mem_1 = u_rest*torch.ones(nb_hidden, dtype=dtype, device=device)\n",
        "  syn_1 = torch.zeros(nb_hidden, dtype=dtype, device=device)\n",
        "  mem_2 = u_rest*torch.ones(nb_outputs, dtype=dtype, device=device)\n",
        "  syn_2 = torch.zeros(nb_outputs, dtype=dtype, device=device)\n",
        "\n",
        "  # initialize lists to record values\n",
        "  mem_rec_1 = []\n",
        "  mem_rec_2 = []\n",
        "  spk_rec_1 = []\n",
        "  spk_rec_2 = []\n",
        "  \n",
        "  for t in tqdm(range(nb_steps)):\n",
        " #   print(\"\\n\", \"Timestep:\", t)\n",
        "    # Spike\n",
        "    out_1 = spike_fn(mem_1, thres)\n",
        "    spk_rec_1.append(out_1)\n",
        "    inp_2 = out_1 # input to the next layer, shape: (nb_hidden,)\n",
        "\n",
        "    # Reseting membrane potential upon spike\n",
        "    reset_1 = torch.zeros(nb_hidden, dtype=dtype, device=device)\n",
        "    # Note: potential for optimization, could remove for loop\n",
        "    for i in range(nb_hidden): # loop through individual neurons and set reset values based on past activity\n",
        "      spk_rec_1_i = [row[i] for row in spk_rec_1] # obtains the spiking activity of neuron of interest\n",
        "      if t < 50:\n",
        "        if 1 in spk_rec_1_i:\n",
        "          reset_1[i] = 1\n",
        "      elif 1 in spk_rec_1_i[-50:]:\n",
        "        reset_1[i] = 1\n",
        "      else:\n",
        "        reset_1[i] = 0\n",
        "      \n",
        "    # evaluating new membrane potential and synaptic input \n",
        "    #print(\"Weight 1 shape:\", w1.shape)\n",
        "    #print(\"Input train snapshot shape:\", input_trains[:, t].shape)\n",
        "    weighted_inp_1 = w1.T @ input_trains[:, t] # final shape: (nb_hidden, )\n",
        "    #print(\"Weighted input 1 shape:\", weighted_inp_1.shape)\n",
        "    new_mem_1 = (beta*mem_1 + (1 - beta)*syn_1 + (1 - beta)*u_rest)*(1 - reset_1) + (reset_1 * u_rest)\n",
        "    new_syn_1 = alpha*syn_1 + weighted_inp_1\n",
        "\n",
        "    mem_rec_1.append(mem_1)\n",
        "\n",
        "    mem_1 = new_mem_1\n",
        "    syn_1 = new_syn_1\n",
        "\n",
        "    # Readout Layer\n",
        "    reset_2 = torch.zeros(nb_outputs, dtype=dtype, device=device)\n",
        "\n",
        "    for j in range(nb_outputs):\n",
        "      spk_rec_2_j = [row[j] for row in spk_rec_2]\n",
        "  #    print(spk_rec_2_j)\n",
        "      if t < 50:\n",
        "        if 1 in spk_rec_2_j:\n",
        "          reset_2[j] = 1\n",
        "      elif 1 in spk_rec_2_j[-50:]:\n",
        "        reset_2[j] = 1\n",
        "      else:\n",
        "        reset_2[j] = 0\n",
        "\n",
        "    # evaluating new membrane potential and synaptic input\n",
        "    out_2 = spike_fn(mem_2, thres)\n",
        "    spk_rec_2.append(out_2)\n",
        "  #  print(\"Network Output:\", out_2)\n",
        "  #  print(\"Spk_Rec 2:\", spk_rec_2)\n",
        "\n",
        "    weighted_inp_2 = w2.T @ inp_2 # final shape: (nb_outputs,)\n",
        "    new_mem_2 = (beta*mem_2 + (1 - beta)*syn_2 + (1 - beta)*u_rest)*(1 - reset_2) + (reset_2 * u_rest)\n",
        "    new_syn_2 = alpha*syn_2 + weighted_inp_2 # change input term\n",
        "\n",
        "    mem_rec_2.append(mem_2)\n",
        "\n",
        "    mem_2 = new_mem_2\n",
        "    syn_2 = new_syn_2\n",
        "\n",
        "\n",
        "  spk_rec_1 = torch.stack(spk_rec_1, dim=1) #final_shape:(nb_hidden, nb_steps)\n",
        "  spk_rec_2 = torch.stack(spk_rec_2, dim=1) #final_shape:(nb_outputs, nb_steps)\n",
        "  #spk_rec_2 = torch.flatten(spk_rec_2)\n",
        "  mem_rec_1 = torch.stack(mem_rec_1, dim=1) #final_shape:(nb_hidden, nb_steps)\n",
        "  mem_rec_2 = torch.stack(mem_rec_2, dim=1) #final_shape:(nb_outputs, nb_steps)\n",
        "\n",
        "# Presynaptic Traces\n",
        "  ## At hidden layer: \n",
        "  presynaptic_traces_1 = presynaptic_trace(input_trains, args) #final_shape: (nb_inputs, nb_steps)\n",
        "  ## At output layer: \n",
        "  presynaptic_traces_2 = presynaptic_trace(spk_rec_1, args) #final_shape: (nb_hidden, nb_steps)\n",
        "\n",
        "# Hebbian Coincidence Term:\n",
        "  ## At hidden layer:\n",
        "  h_1 = mem_rec_1 - thres #final_shape: (nb_hidden, nb_steps)\n",
        "  post_1 = 1 / (1 + torch.abs(h_1))**2\n",
        "  A1 = torch.unsqueeze(presynaptic_traces_1, 1) #final_shape: (nb_inputs, nb_hidden, nb_steps)\n",
        "  B1 = torch.unsqueeze(post_1, 0) #final_shape: nb_inputs, nb_hidden, nb_steps)\n",
        "  hebbian_1 = A1 * B1  #final_shape: (nb_inputs, nb_hidden, nb_steps)\n",
        "\n",
        "  ## At output layer: \n",
        "  h_2 = mem_rec_2 - thres\n",
        "  post_2 = 1 / (1 + torch.abs(h_2))**2\n",
        "  A2 = torch.unsqueeze(presynaptic_traces_2, 1)\n",
        "  B2 = torch.unsqueeze(post_2, 0)\n",
        "  hebbian_2 = A2 * B2 #final_shape: (nb_hidden, nb_outputs, nb_steps)\n",
        "\n",
        "# Eligibility Trace (double exponential kernel over the hebbian coincidence term)\n",
        "  ## At hidden layer:\n",
        "  eligibility_1 = eligibility_trace(hebbian_1, args) #final_shape: (nb_inputs, nb_hidden, nb_steps)\n",
        "  ## At output layer:\n",
        "  eligibility_2 = eligibility_trace(hebbian_2, args) #final_shape: (nb_hidden, nb_outputs, nb_steps)\n",
        "\n",
        "  return eligibility_1, eligibility_2, presynaptic_traces_1, presynaptic_traces_2, spk_rec_2, spk_rec_1, mem_rec_2, mem_rec_1\n"
      ],
      "execution_count": 24,
      "outputs": []
    },
    {
      "cell_type": "code",
      "metadata": {
        "colab": {
          "base_uri": "https://localhost:8080/"
        },
        "id": "bdqdHVR7ztje",
        "outputId": "306a1d79-178a-4efe-ff40-a91365e8cfe6"
      },
      "source": [
        "#@title Test run\n",
        "eligibility_1, eligibility_2, presynaptic_trace_1, presynaptic_traces_2, spk_rec_2, spk_rec_1, mem_rec_2, mem_rec_1 = run_snn(input_trains, w1, w2, args)"
      ],
      "execution_count": 25,
      "outputs": [
        {
          "output_type": "stream",
          "name": "stderr",
          "text": [
            "100%|██████████| 5000/5000 [03:34<00:00, 23.27it/s]\n"
          ]
        }
      ]
    },
    {
      "cell_type": "code",
      "metadata": {
        "colab": {
          "base_uri": "https://localhost:8080/",
          "height": 265
        },
        "id": "I-bJZjjuN8Lv",
        "outputId": "5f828b25-4729-4bac-c9b8-63a62dd4adbf"
      },
      "source": [
        "#spk_rec_2 = spk_rec_2\n",
        "#spk_rec_2 = torch.stack(spk_rec_2, dim=0)\n",
        "spk_rec_2 = torch.flatten(spk_rec_2)\n",
        "plot_single_train(spk_rec_2, nb_steps, timestep_size)"
      ],
      "execution_count": 31,
      "outputs": [
        {
          "output_type": "display_data",
          "data": {
            "image/png": "[encoded data removed]",
            "text/plain": [
              "<Figure size 432x288 with 1 Axes>"
            ]
          },
          "metadata": {
            "needs_background": "light"
          }
        }
      ]
    },
    {
      "cell_type": "code",
      "metadata": {
        "colab": {
          "base_uri": "https://localhost:8080/",
          "height": 282
        },
        "id": "vWx4E1ZsQWd6",
        "outputId": "23efa469-583d-400d-ebbd-2c30cc5ccf46"
      },
      "source": [
        "potential_trace = torch.flatten(mem_rec_2.cpu())\n",
        "plt.plot(potential_trace)"
      ],
      "execution_count": 38,
      "outputs": [
        {
          "output_type": "execute_result",
          "data": {
            "text/plain": [
              "[<matplotlib.lines.Line2D at 0x7fc0774b5190>]"
            ]
          },
          "metadata": {},
          "execution_count": 38
        },
        {
          "output_type": "display_data",
          "data": {
            "image/png": "[encoded data removed]",
            "text/plain": [
              "<Figure size 432x288 with 1 Axes>"
            ]
          },
          "metadata": {
            "needs_background": "light"
          }
        }
      ]
    },
    {
      "cell_type": "code",
      "metadata": {
        "colab": {
          "base_uri": "https://localhost:8080/",
          "height": 300
        },
        "id": "gUumfsXtQjU6",
        "outputId": "be2549db-edcd-4695-f684-2b93401d5602"
      },
      "source": [
        "#mem_rec_1 = torch.stack(mem_rec_1, dim=1)\n",
        "print(\"mem-rec-1 shape:\", mem_rec_1.shape)\n",
        "plt.plot(mem_rec_1[0].cpu())"
      ],
      "execution_count": 46,
      "outputs": [
        {
          "output_type": "stream",
          "name": "stdout",
          "text": [
            "mem-rec-1 shape: torch.Size([4, 5000])\n"
          ]
        },
        {
          "output_type": "execute_result",
          "data": {
            "text/plain": [
              "[<matplotlib.lines.Line2D at 0x7fc05ce84110>]"
            ]
          },
          "metadata": {},
          "execution_count": 46
        },
        {
          "output_type": "display_data",
          "data": {
            "image/png": "[encoded data removed]",
            "text/plain": [
              "<Figure size 432x288 with 1 Axes>"
            ]
          },
          "metadata": {
            "needs_background": "light"
          }
        }
      ]
    },
    {
      "cell_type": "code",
      "metadata": {
        "id": "AYu1CB7rLKc7",
        "cellView": "code"
      },
      "source": [
        "#@title Training the network\n",
        "\n",
        "epochs = 5\n",
        "weight_scale = 100\n",
        "w1, w2 = initialize_weights(nb_inputs, nb_hidden, nb_outputs, weight_scale)\n",
        "\n",
        "feedback_weights = random_feedback(nb_hidden, nb_outputs, weight_scale).T # shape: (nb_outputs, nb_hidden)\n",
        "loss_rec = []\n",
        "\n",
        "v_ij_1 = torch.ones((nb_inputs, nb_hidden), device=device, dtype=dtype)\n",
        "v_ij_2 = torch.ones((nb_hidden, nb_outputs), device=device, dtype=dtype)\n",
        "\n",
        "initial_rate = 1\n",
        "gamma = float(np.exp(-dt/args['tau_rms']))\n",
        "\n",
        "\n",
        "for i in tqdm(range(epochs)):\n",
        "  print(\"Epoch no:\", i)\n",
        "  eligibility_1, eligibility_2, presynaptic_trace_1, presynaptic_traces_2, spk_rec_2, spk_rec_1, mem_rec_2, mem_rec_1 = run_snn(input_trains, w1, w2, args)\n",
        "  \n",
        "  output = torch.flatten(spk_rec_2)\n",
        "\n",
        "  # Evaluate Loss & Store for Plotting:\n",
        "  loss = van_rossum_loss(target, output, args)\n",
        "  loss_rec.append(loss)\n",
        "  print(\"Loss =\", loss)\n",
        "\n",
        "  # Evaluate Error Signal for both layers:\n",
        "  output_error = torch.unsqueeze(error_signal(output, target, args), 1) # shape: (nb_steps, nb_outputs)\n",
        "  norm_factor, _ = torch.max(output_error, dim=0)\n",
        "  output_error /= norm_factor\n",
        "  feedback_error = output_error @ feedback_weights # shape: (nb_steps, nb_hidden)\n",
        "\n",
        "  # Normalize traces:\n",
        "  norm_factor_e_1, _ = torch.max(eligibility_1, dim=2) # take max along time dimension\n",
        "  norm_factor_e_2, _ = torch.max(eligibility_2, dim=2)\n",
        "\n",
        "  eligibility_1 /= norm_factor_e_1 # shape: (nb_inputs, nb_hidden, nb_steps)\n",
        "  eligibility_2 /= norm_factor_e_2 # shape: (nb_hidden, nb_outputs, nb_steps)\n",
        "\n",
        "  eligibility_1[eligibility_1 != eligibility_1] = 0 # set NaN values to zero\n",
        "  eligibility_2[eligibility_2 != eligibility_2] = 0\n",
        "  \n",
        "  # Per-parameter learning rate:\n",
        "  g_ij_sq_1 = torch.sum((feedback_error.T * eligibility_1)**2, dim=2)\n",
        "  g_ij_sq_2 = torch.sum((output_error.T * eligibility_2)**2, dim=2)\n",
        "  v_ij_1 = torch.max([gamma*v_ij_1, g_ij_sq_1])\n",
        "  v_ij_2 = torch.max([gamma*v_ij_2, g_ij_sq_2])\n",
        "\n",
        "\n",
        "  learning_rate_1 = initial_rate / torch.sqrt(v_ij_1) # shape: (nb_inputs, nb_hidden)\n",
        "  learning_rate_2 = initial_rate / torch.sqrt(v_ij_2) # shape: (nb_hidden, nb_outputs)\n",
        "\n",
        "\n",
        "  # Evaluate Weight Changes:\n",
        "  w2_change = torch.sum(output_error.T * eligibility_2, dim=2) # sum along time dimension; final shape: (nb_hidden, nb_outputs)\n",
        "  w1_change = torch.sum(feedback_error.T * eligibility_1, dim=2) # final shape: (nb_inputs, nb_hidden)\n",
        "\n",
        "  # Update Weights:\n",
        "  w1 += w1_change * learning_rate_1 \n",
        "  w2 += w2_change * learning_rate_2\n"
      ],
      "execution_count": null,
      "outputs": []
    },
    {
      "cell_type": "code",
      "metadata": {
        "id": "ZwZvry6qNoMn",
        "colab": {
          "base_uri": "https://localhost:8080/"
        },
        "outputId": "5dc6ebbc-e2bd-4663-fd36-a3cf9c6458e9"
      },
      "source": [
        "  eligibility_1, eligibility_2, presynaptic_trace_1, presynaptic_traces_2, spk_rec_2, spk_rec_1, mem_rec_2, mem_rec_1 = run_snn(input_trains, w1, w2, args)\n",
        "  \n",
        "  output = torch.flatten(spk_rec_2)"
      ],
      "execution_count": 63,
      "outputs": [
        {
          "output_type": "stream",
          "name": "stderr",
          "text": [
            "100%|██████████| 5000/5000 [04:31<00:00, 18.44it/s]\n"
          ]
        }
      ]
    },
    {
      "cell_type": "code",
      "source": [
        "  # Evaluate Loss & Store for Plotting:\n",
        "  loss = van_rossum_loss(target, output, args)\n",
        "  loss_rec.append(loss)\n",
        "  print(\"Loss =\", loss)\n",
        "\n",
        "  # Evaluate Error Signal for both layers:\n",
        "  output_error = torch.unsqueeze(error_signal(output, target, args), 1) # shape: (nb_steps, nb_outputs)\n",
        "  norm_factor, _ = torch.max(output_error, dim=0)\n",
        "  output_error /= norm_factor\n",
        "  feedback_error = output_error @ feedback_weights # shape: (nb_steps, nb_hidden)\n",
        "\n",
        "  # Normalize traces:\n",
        "  norm_factor_e_1, _ = torch.max(eligibility_1, dim=2) # take max along time dimension\n",
        "  norm_factor_e_2, _ = torch.max(eligibility_2, dim=2)\n",
        "\n",
        "  norm_factor_e_1 = torch.unsqueeze(norm_factor_e_1, 2) # add an extra dimension for broadcasting for divison below\n",
        "  norm_factor_e_2 = torch.unsqueeze(norm_factor_e_2, 2)\n",
        "\n",
        "  eligibility_1 /= norm_factor_e_1 # shape: (nb_inputs, nb_hidden, nb_steps)\n",
        "  eligibility_2 /= norm_factor_e_2 # shape: (nb_hidden, nb_outputs, nb_steps)\n",
        "\n",
        "  eligibility_1[eligibility_1 != eligibility_1] = 0 # set NaN values to zero\n",
        "  eligibility_2[eligibility_2 != eligibility_2] = 0\n",
        "  \n",
        "  # Per-parameter learning rate:\n",
        "  g_ij_sq_1 = torch.sum((feedback_error.T * eligibility_1)**2, dim=2)\n",
        "  g_ij_sq_2 = torch.sum((output_error.T * eligibility_2)**2, dim=2)\n",
        "  v_ij_1 = torch.max(torch.tensor([gamma*v_ij_1, g_ij_sq_1]))\n",
        "  v_ij_2 = torch.max(torch.tensor([gamma*v_ij_2, g_ij_sq_2]))\n",
        "\n",
        "\n",
        "  learning_rate_1 = initial_rate / torch.sqrt(v_ij_1) # shape: (nb_inputs, nb_hidden)\n",
        "  learning_rate_2 = initial_rate / torch.sqrt(v_ij_2) # shape: (nb_hidden, nb_outputs)\n",
        "\n",
        "\n",
        "  # Evaluate Weight Changes:\n",
        "  w2_change = torch.sum(output_error.T * eligibility_2, dim=2) # sum along time dimension; final shape: (nb_hidden, nb_outputs)\n",
        "  w1_change = torch.sum(feedback_error.T * eligibility_1, dim=2) # final shape: (nb_inputs, nb_hidden)\n",
        "\n",
        "  # Update Weights:\n",
        "  w1 += w1_change * learning_rate_1 \n",
        "  w2 += w2_change * learning_rate_2\n"
      ],
      "metadata": {
        "id": "qHn6xr85IRte",
        "outputId": "e8a5ed82-ed7b-40b3-f869-8ad5d30abf4e",
        "colab": {
          "base_uri": "https://localhost:8080/",
          "height": 252
        }
      },
      "execution_count": 70,
      "outputs": [
        {
          "output_type": "stream",
          "name": "stdout",
          "text": [
            "Loss = tensor(8.2934e-11, device='cuda:0')\n"
          ]
        },
        {
          "output_type": "error",
          "ename": "ValueError",
          "evalue": "ignored",
          "traceback": [
            "\u001b[0;31m---------------------------------------------------------------------------\u001b[0m",
            "\u001b[0;31mValueError\u001b[0m                                Traceback (most recent call last)",
            "\u001b[0;32m<ipython-input-70-3472b4d46482>\u001b[0m in \u001b[0;36m<module>\u001b[0;34m()\u001b[0m\n\u001b[1;32m     26\u001b[0m \u001b[0mg_ij_sq_1\u001b[0m \u001b[0;34m=\u001b[0m \u001b[0mtorch\u001b[0m\u001b[0;34m.\u001b[0m\u001b[0msum\u001b[0m\u001b[0;34m(\u001b[0m\u001b[0;34m(\u001b[0m\u001b[0mfeedback_error\u001b[0m\u001b[0;34m.\u001b[0m\u001b[0mT\u001b[0m \u001b[0;34m*\u001b[0m \u001b[0meligibility_1\u001b[0m\u001b[0;34m)\u001b[0m\u001b[0;34m**\u001b[0m\u001b[0;36m2\u001b[0m\u001b[0;34m,\u001b[0m \u001b[0mdim\u001b[0m\u001b[0;34m=\u001b[0m\u001b[0;36m2\u001b[0m\u001b[0;34m)\u001b[0m\u001b[0;34m\u001b[0m\u001b[0;34m\u001b[0m\u001b[0m\n\u001b[1;32m     27\u001b[0m \u001b[0mg_ij_sq_2\u001b[0m \u001b[0;34m=\u001b[0m \u001b[0mtorch\u001b[0m\u001b[0;34m.\u001b[0m\u001b[0msum\u001b[0m\u001b[0;34m(\u001b[0m\u001b[0;34m(\u001b[0m\u001b[0moutput_error\u001b[0m\u001b[0;34m.\u001b[0m\u001b[0mT\u001b[0m \u001b[0;34m*\u001b[0m \u001b[0meligibility_2\u001b[0m\u001b[0;34m)\u001b[0m\u001b[0;34m**\u001b[0m\u001b[0;36m2\u001b[0m\u001b[0;34m,\u001b[0m \u001b[0mdim\u001b[0m\u001b[0;34m=\u001b[0m\u001b[0;36m2\u001b[0m\u001b[0;34m)\u001b[0m\u001b[0;34m\u001b[0m\u001b[0;34m\u001b[0m\u001b[0m\n\u001b[0;32m---> 28\u001b[0;31m \u001b[0mv_ij_1\u001b[0m \u001b[0;34m=\u001b[0m \u001b[0mtorch\u001b[0m\u001b[0;34m.\u001b[0m\u001b[0mmax\u001b[0m\u001b[0;34m(\u001b[0m\u001b[0mtorch\u001b[0m\u001b[0;34m.\u001b[0m\u001b[0mtensor\u001b[0m\u001b[0;34m(\u001b[0m\u001b[0;34m[\u001b[0m\u001b[0mgamma\u001b[0m\u001b[0;34m*\u001b[0m\u001b[0mv_ij_1\u001b[0m\u001b[0;34m,\u001b[0m \u001b[0mg_ij_sq_1\u001b[0m\u001b[0;34m]\u001b[0m\u001b[0;34m)\u001b[0m\u001b[0;34m)\u001b[0m\u001b[0;34m\u001b[0m\u001b[0;34m\u001b[0m\u001b[0m\n\u001b[0m\u001b[1;32m     29\u001b[0m \u001b[0mv_ij_2\u001b[0m \u001b[0;34m=\u001b[0m \u001b[0mtorch\u001b[0m\u001b[0;34m.\u001b[0m\u001b[0mmax\u001b[0m\u001b[0;34m(\u001b[0m\u001b[0mtorch\u001b[0m\u001b[0;34m.\u001b[0m\u001b[0mtensor\u001b[0m\u001b[0;34m(\u001b[0m\u001b[0;34m[\u001b[0m\u001b[0mgamma\u001b[0m\u001b[0;34m*\u001b[0m\u001b[0mv_ij_2\u001b[0m\u001b[0;34m,\u001b[0m \u001b[0mg_ij_sq_2\u001b[0m\u001b[0;34m]\u001b[0m\u001b[0;34m)\u001b[0m\u001b[0;34m)\u001b[0m\u001b[0;34m\u001b[0m\u001b[0;34m\u001b[0m\u001b[0m\n\u001b[1;32m     30\u001b[0m \u001b[0;34m\u001b[0m\u001b[0m\n",
            "\u001b[0;31mValueError\u001b[0m: only one element tensors can be converted to Python scalars"
          ]
        }
      ]
    }
  ]
}